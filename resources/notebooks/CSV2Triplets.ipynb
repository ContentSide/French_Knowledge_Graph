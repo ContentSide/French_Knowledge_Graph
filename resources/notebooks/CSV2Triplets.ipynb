{
 "cells": [
  {
   "cell_type": "code",
   "execution_count": null,
   "metadata": {
    "id": "bChSK10bEoEm"
   },
   "outputs": [],
   "source": [
    "import os\n",
    "import numpy as np\n",
    "import pandas as pd \n",
    "import matplotlib.pyplot as plt\n",
    "import numpy as np\n",
    "\n",
    "import networkx as nx\n",
    "from google.colab import files"
   ]
  },
  {
   "cell_type": "code",
   "execution_count": null,
   "metadata": {
    "colab": {
     "base_uri": "https://localhost:8080/"
    },
    "id": "sD5tZJQlEqtu",
    "outputId": "f74157f3-a5e7-418c-d53c-410ffb500562"
   },
   "outputs": [
    {
     "name": "stdout",
     "output_type": "stream",
     "text": [
      "fatal: destination path 'RezoJDM-SDS' already exists and is not an empty directory.\n"
     ]
    }
   ],
   "source": [
    "! git clone https://github.com/ContentSide/RezoJDM-SDS.git"
   ]
  },
  {
   "cell_type": "code",
   "execution_count": null,
   "metadata": {
    "id": "ehnoIncwJkvx"
   },
   "outputs": [],
   "source": [
    "nodes = pd.read_csv(\"/content/RezoJDM-SDS/datasets/Filtered_Nodes_Edges/nodes.csv\", index_col=False)\n",
    "relations = pd.read_csv(\"/content/RezoJDM-SDS/datasets/Filtered_Nodes_Edges/relations.csv\", index_col=False)"
   ]
  },
  {
   "cell_type": "code",
   "execution_count": null,
   "metadata": {
    "id": "-rR0h9jQx_23"
   },
   "outputs": [],
   "source": [
    "nodes_out_degree = {}\n",
    "nodes_in_degree = {}\n",
    "nodes_degree = {}\n",
    "\n",
    "for _, row in relations.iterrows():\n",
    "    \n",
    "    if row.n1 in nodes_out_degree:\n",
    "        nodes_out_degree[row.n1]+=1\n",
    "    else:\n",
    "        nodes_out_degree[row.n1]=1\n",
    "\n",
    "\n",
    "    if row.n2 in nodes_in_degree:\n",
    "        nodes_in_degree[row.n2]+=1\n",
    "    else:\n",
    "        nodes_in_degree[row.n2]=1\n",
    "\n",
    "\n",
    "    if row.n1 in nodes_degree:\n",
    "        nodes_degree[row.n1]+=1\n",
    "    else:\n",
    "        nodes_degree[row.n1]=1\n",
    "\n",
    "\n",
    "    if row.n2 in nodes_degree:\n",
    "        nodes_degree[row.n2]+=1\n",
    "    else:\n",
    "        nodes_degree[row.n2]=1\n"
   ]
  },
  {
   "cell_type": "code",
   "execution_count": null,
   "metadata": {
    "colab": {
     "base_uri": "https://localhost:8080/"
    },
    "id": "bZiiQCVGyjkh",
    "outputId": "e618cf31-3e74-4811-b2ea-1d587db8019b"
   },
   "outputs": [
    {
     "name": "stdout",
     "output_type": "stream",
     "text": [
      "116477\n"
     ]
    }
   ],
   "source": [
    "values=[]\n",
    "keys=[]\n",
    "\n",
    "for key, value in nodes_degree.items():\n",
    "    values.append(value)\n",
    "    keys.append(key)\n",
    "    if value == 15818:\n",
    "        print(key)"
   ]
  },
  {
   "cell_type": "code",
   "execution_count": null,
   "metadata": {
    "colab": {
     "base_uri": "https://localhost:8080/"
    },
    "id": "rnEkgMQFKfhO",
    "outputId": "28bc4e55-2388-4afa-8872-7f4dc39faeaf"
   },
   "outputs": [
    {
     "data": {
      "text/plain": [
       "113"
      ]
     },
     "execution_count": 322,
     "metadata": {},
     "output_type": "execute_result"
    }
   ],
   "source": [
    "len(relations[\"t\"].unique())"
   ]
  },
  {
   "cell_type": "code",
   "execution_count": null,
   "metadata": {
    "colab": {
     "base_uri": "https://localhost:8080/"
    },
    "id": "m7zmTCveOsh4",
    "outputId": "6017cb7c-cb44-4171-d0f6-857d1f515d73"
   },
   "outputs": [
    {
     "data": {
      "text/plain": [
       "(1, 15818, 42.73066440725835)"
      ]
     },
     "execution_count": 323,
     "metadata": {},
     "output_type": "execute_result"
    }
   ],
   "source": [
    "min(values), max(values), np.mean(values)"
   ]
  },
  {
   "cell_type": "code",
   "execution_count": null,
   "metadata": {
    "colab": {
     "base_uri": "https://localhost:8080/",
     "height": 80
    },
    "id": "We-XlUM2yzCe",
    "outputId": "1f4037b7-2497-4585-a61c-27b17e03c95a"
   },
   "outputs": [
    {
     "data": {
      "text/html": [
       "<div>\n",
       "<style scoped>\n",
       "    .dataframe tbody tr th:only-of-type {\n",
       "        vertical-align: middle;\n",
       "    }\n",
       "\n",
       "    .dataframe tbody tr th {\n",
       "        vertical-align: top;\n",
       "    }\n",
       "\n",
       "    .dataframe thead th {\n",
       "        text-align: right;\n",
       "    }\n",
       "</style>\n",
       "<table border=\"1\" class=\"dataframe\">\n",
       "  <thead>\n",
       "    <tr style=\"text-align: right;\">\n",
       "      <th></th>\n",
       "      <th>eid</th>\n",
       "      <th>n</th>\n",
       "      <th>t</th>\n",
       "      <th>w</th>\n",
       "    </tr>\n",
       "  </thead>\n",
       "  <tbody>\n",
       "    <tr>\n",
       "      <th>35977</th>\n",
       "      <td>116477</td>\n",
       "      <td>personne</td>\n",
       "      <td>1</td>\n",
       "      <td>9834</td>\n",
       "    </tr>\n",
       "  </tbody>\n",
       "</table>\n",
       "</div>"
      ],
      "text/plain": [
       "          eid         n  t     w\n",
       "35977  116477  personne  1  9834"
      ]
     },
     "execution_count": 324,
     "metadata": {},
     "output_type": "execute_result"
    }
   ],
   "source": [
    "nodes[nodes[\"eid\"]==116477]"
   ]
  },
  {
   "cell_type": "code",
   "execution_count": null,
   "metadata": {
    "id": "-pF_tUaZzKyH"
   },
   "outputs": [],
   "source": [
    "#Entities connected to less than 15 other nodes (degree(node)<15) were removed.\n",
    "\n",
    "nodes_to_keep=[]\n",
    "for key, value in nodes_degree.items():\n",
    "    if value >= 45:\n",
    "        nodes_to_keep.append(key)\n",
    "\n",
    "relations_filter1 = relations[relations[\"n1\"].isin(nodes_to_keep) & relations[\"n2\"].isin(nodes_to_keep)].reset_index()"
   ]
  },
  {
   "cell_type": "code",
   "execution_count": null,
   "metadata": {
    "colab": {
     "base_uri": "https://localhost:8080/"
    },
    "id": "yNOj-BL7zlIJ",
    "outputId": "8e8dc52d-1927-4afe-f5e9-975c509b5935"
   },
   "outputs": [
    {
     "data": {
      "text/plain": [
       "15746"
      ]
     },
     "execution_count": 331,
     "metadata": {},
     "output_type": "execute_result"
    }
   ],
   "source": [
    "len(nodes_to_keep)"
   ]
  },
  {
   "cell_type": "code",
   "execution_count": null,
   "metadata": {
    "colab": {
     "base_uri": "https://localhost:8080/"
    },
    "id": "Ad-MMVbAznR7",
    "outputId": "5b3f0716-b0da-4e78-c2e0-3c1a41433b42"
   },
   "outputs": [
    {
     "data": {
      "text/plain": [
       "(887654, 6)"
      ]
     },
     "execution_count": 332,
     "metadata": {},
     "output_type": "execute_result"
    }
   ],
   "source": [
    "relations_filter1.shape"
   ]
  },
  {
   "cell_type": "code",
   "execution_count": null,
   "metadata": {
    "colab": {
     "base_uri": "https://localhost:8080/"
    },
    "id": "RHMhPNUz2rW1",
    "outputId": "9180d83e-1a79-435f-ab16-06dda3577a81"
   },
   "outputs": [
    {
     "data": {
      "text/plain": [
       "106"
      ]
     },
     "execution_count": 333,
     "metadata": {},
     "output_type": "execute_result"
    }
   ],
   "source": [
    "len(relations_filter1[\"t\"].unique())"
   ]
  },
  {
   "cell_type": "code",
   "execution_count": null,
   "metadata": {
    "id": "nHs7NLT623j6"
   },
   "outputs": [],
   "source": [
    "#Relationships that appeared less than 100 times in the graph were also deleted.\n",
    "\n",
    "relation_freq={}\n",
    "\n",
    "for _, row in relations_filter1.iterrows():\n",
    "    \n",
    "    if row.t in relation_freq:\n",
    "        relation_freq[row.t]+=1\n",
    "    else:\n",
    "        relation_freq[row.t]=1"
   ]
  },
  {
   "cell_type": "code",
   "execution_count": null,
   "metadata": {
    "id": "ytplSCopCewp"
   },
   "outputs": [],
   "source": [
    "relations_to_keep=[]\n",
    "for key, value in relation_freq.items():\n",
    "    if value >= 100:\n",
    "        relations_to_keep.append(key)\n",
    "\n",
    "relations_filter2 = relations_filter1[relations_filter1[\"t\"].isin(relations_to_keep)].reset_index()"
   ]
  },
  {
   "cell_type": "code",
   "execution_count": null,
   "metadata": {
    "colab": {
     "base_uri": "https://localhost:8080/"
    },
    "id": "SiWHmsO-CW5t",
    "outputId": "c0870df3-6388-4317-b5bb-72dcc5d5b5dc"
   },
   "outputs": [
    {
     "data": {
      "text/plain": [
       "((887654, 6), (886393, 7), 54)"
      ]
     },
     "execution_count": 370,
     "metadata": {},
     "output_type": "execute_result"
    }
   ],
   "source": [
    "relations_filter1.shape, relations_filter2.shape, len(relations_filter2[\"t\"].unique())"
   ]
  },
  {
   "cell_type": "code",
   "execution_count": null,
   "metadata": {},
   "outputs": [],
   "source": [
    "# pairs of symmetric relationship types\n",
    "symmetic_reltypes = [\n",
    "  (21,20),\n",
    "  (53,54),\n",
    "  (50,51),\n",
    "  (41,42),\n",
    "  (31,30),\n",
    "  (32,115),\n",
    "  (39,40),\n",
    "  (14,26),\n",
    "  (16,25),\n",
    "  (3,27),\n",
    "  (73,74),\n",
    "  (55,56),\n",
    "  (13,24),\n",
    "  (6,8),\n",
    "  (17,23),\n",
    "  (15,28),\n",
    "  (1,2000),\n",
    "  (9,10),\n",
    "]\n",
    "\n",
    "_relations_to_delete = set()\n",
    "\n",
    "error = False\n",
    "\n",
    "for n, reltype_pair in enumerate(symmetic_reltypes):\n",
    "  print(\"Handling reltype pair: {} ({}/{})\\n\\n\".format(reltype_pair, n+1, len(symmetic_reltypes)))\n",
    "  _edges = relations_filter2[relations_filter2[\"t\"].isin(reltype_pair)]\n",
    "  for _, _edge in _edges.iterrows():\n",
    "    if _edge[\"t\"] == reltype_pair[0]:\n",
    "      other_type = reltype_pair[1]\n",
    "    elif _edge[\"t\"] == reltype_pair[1]:\n",
    "      other_type = reltype_pair[0]\n",
    "    symmetric_rel = _edges[(_edges[\"t\"] == other_type) & (_edges[\"n1\"] == _edge[\"n2\"]) & (_edges[\"n2\"] == _edge[\"n1\"])]\n",
    "    if symmetric_rel.shape[0] == 0:\n",
    "      continue\n",
    "    elif symmetric_rel.shape[0] > 1:\n",
    "    test = (_edge[\"w\"] > symmetric_rel[\"w\"]).values[0]\n",
    "    _relations_to_delete.add(_edge[\"rid\"] if test else symmetric_rel[\"rid\"].values[0])  "
   ]
  },
  {
   "cell_type": "code",
   "execution_count": null,
   "metadata": {},
   "outputs": [],
   "source": [
    "print(\"number of relations to delete:\\n\", len(_relations_to_delete))"
   ]
  },
  {
   "cell_type": "code",
   "execution_count": null,
   "metadata": {},
   "outputs": [],
   "source": [
    "relations_filter3 = relations_filter2[~relations_filter2[\"rid\"].isin(_relations_to_delete)]\n",
    "relations_filter2.shape, relations_filter3.shape"
   ]
  },
  {
   "cell_type": "code",
   "execution_count": null,
   "metadata": {},
   "outputs": [],
   "source": [
    "relations_filter2.shape[0] - relations_filter3.shape[0]"
   ]
  },
  {
   "cell_type": "code",
   "execution_count": null,
   "metadata": {},
   "outputs": [],
   "source": [
    "# Let's make sure every relationship type still has >=100 examples. If not, remove it.\n",
    "\n",
    "_relation_freq={}\n",
    "\n",
    "for _, _row in relations_filter3.iterrows():\n",
    "    \n",
    "    if _row.t in _relation_freq:\n",
    "        _relation_freq[_row.t]+=1\n",
    "    else:\n",
    "        _relation_freq[_row.t]=1\n",
    "\n",
    "for _reltype, _relfreq in _relation_freq.items():\n",
    "  if _relfreq < 100:\n",
    "    print(f\"WARNING! Relationship type {_reltype} has {_relfreq}<100 examples\")"
   ]
  },
  {
   "cell_type": "code",
   "execution_count": null,
   "metadata": {},
   "outputs": [],
   "source": [
    "relations_to_keep=[]\n",
    "for key, value in _relation_freq.items():\n",
    "    if value >= 100:\n",
    "        relations_to_keep.append(key)\n",
    "\n",
    "relations_filter4 = relations_filter3[relations_filter3[\"t\"].isin(relations_to_keep)]\n",
    "relations_filter3.shape, relations_filter4.shape"
   ]
  },
  {
   "cell_type": "code",
   "execution_count": null,
   "metadata": {},
   "outputs": [],
   "source": [
    "relations_filter3.shape[0] - relations_filter4.shape[0]"
   ]
  },
  {
   "cell_type": "code",
   "execution_count": null,
   "metadata": {},
   "outputs": [],
   "source": [
    "relations_filter2.shape, relations_filter4.shape, len(relations_filter2[\"t\"].unique()), len(relations_filter4[\"t\"].unique())"
   ]
  },
  {
   "cell_type": "code",
   "execution_count": null,
   "metadata": {
    "id": "nTLD0LW-XlYv"
   },
   "outputs": [],
   "source": [
    "#code to find components of the graph. The largest subgraph will be selected.\n",
    "\n",
    "def get_sub_disconnected_graphs(relations):\n",
    "    G = nx.from_pandas_edgelist(relations, source='n1', target='n2', edge_attr='t')\n",
    "    largest_component = max(nx.connected_components(G), key=len)\n",
    "    G2 = G.subgraph(largest_component)\n",
    "    return len(list(nx.connected_components(G)))"
   ]
  },
  {
   "cell_type": "code",
   "execution_count": null,
   "metadata": {
    "colab": {
     "base_uri": "https://localhost:8080/"
    },
    "id": "2NgOPsoTZNBL",
    "outputId": "c90a3d91-cbec-498a-d709-5e3b6cceb211"
   },
   "outputs": [
    {
     "data": {
      "text/plain": [
       "(1, 1, 1)"
      ]
     },
     "execution_count": 372,
     "metadata": {},
     "output_type": "execute_result"
    }
   ],
   "source": [
    "get_sub_disconnected_graphs(relations), get_sub_disconnected_graphs(relations_filter2), get_sub_disconnected_graphs(relations_filter4)"
   ]
  },
  {
   "cell_type": "code",
   "execution_count": null,
   "metadata": {
    "colab": {
     "base_uri": "https://localhost:8080/"
    },
    "id": "zyqeEl1GZvVT",
    "outputId": "3a5b1991-420b-488a-c036-81018b71f013"
   },
   "outputs": [
    {
     "data": {
      "text/plain": [
       "((886393, 4), 54)"
      ]
     },
     "execution_count": 373,
     "metadata": {},
     "output_type": "execute_result"
    }
   ],
   "source": [
    "relations = relations_filter4[[\"n1\",\"n2\",\"t\",\"w\"]]\n",
    "relations.shape , len(relations[\"t\"].unique())"
   ]
  },
  {
   "cell_type": "code",
   "execution_count": null,
   "metadata": {
    "id": "AsCigXMN-Hhh"
   },
   "outputs": [],
   "source": [
    "# relations_info = {}\n",
    "\n",
    "# for _, row in relations.iterrows():\n",
    "#     start = min(row.n1,row.n2)\n",
    "#     end = max(row.n1,row.n2)\n",
    "\n",
    "#     link = str(start) + \"-\" + str(end)\n",
    "\n",
    "#     if link in relations_info:\n",
    "#         relations_info[link].append(row)\n",
    "#     else:\n",
    "#         relations_info[link] = [row]"
   ]
  },
  {
   "cell_type": "code",
   "execution_count": null,
   "metadata": {
    "id": "0wAB2CuXXMvI"
   },
   "outputs": [],
   "source": [
    "def get_subset_triplet(relations, N):\n",
    "\n",
    "    relations_ = relations.copy()\n",
    "    count = 0\n",
    "\n",
    "\n",
    "    while count < N:\n",
    "\n",
    "        rand_index = np.random.randint(relations_.shape[0], size=1)[0]\n",
    "        relations_dropped = relations_.drop(rand_index)\n",
    "\n",
    "        condition1 = relations_.loc[rand_index][\"n1\"] in relations_dropped[\"n1\"]\n",
    "        condition2 = relations_.loc[rand_index][\"n2\"] in relations_dropped[\"n2\"]    \n",
    "\n",
    "        if condition1 & condition2:\n",
    "\n",
    "            if count == 0:\n",
    "                relations_new = relations_.loc[rand_index].to_frame().T\n",
    "            else:\n",
    "                relations_new = relations_new.append(relations_.loc[rand_index], ignore_index=True)\n",
    "\n",
    "            relations_ = relations_dropped.reset_index()[[\"n1\",\"n2\",\"t\",\"w\"]]\n",
    "            count+=1\n",
    "\n",
    "            if count % 1000 == 0:\n",
    "                print(count)\n",
    "\n",
    "    return relations_new, relations_"
   ]
  },
  {
   "cell_type": "code",
   "execution_count": null,
   "metadata": {
    "colab": {
     "base_uri": "https://localhost:8080/"
    },
    "id": "R-ZtWhqmYR9g",
    "outputId": "3a0a6a01-bb8a-493b-d15f-830dfd37a19b"
   },
   "outputs": [
    {
     "data": {
      "text/plain": [
       "((10, 4), (886383, 4), (886393, 4))"
      ]
     },
     "execution_count": 375,
     "metadata": {},
     "output_type": "execute_result"
    }
   ],
   "source": [
    "rel_new, rel_old = get_subset_triplet(relations, 10)\n",
    "rel_new.shape, rel_old.shape, relations.shape"
   ]
  },
  {
   "cell_type": "code",
   "execution_count": null,
   "metadata": {
    "colab": {
     "base_uri": "https://localhost:8080/"
    },
    "id": "VmDYUu_3dUUf",
    "outputId": "1af91c47-1725-421a-9efb-017c03f4c6c9"
   },
   "outputs": [
    {
     "data": {
      "text/plain": [
       "(0.8802588996763754, 0.05501618122977346, 0.06472491909385113)"
      ]
     },
     "execution_count": 376,
     "metadata": {},
     "output_type": "execute_result"
    }
   ],
   "source": [
    "total = 272 + 17 + 20\n",
    "272/total, 17/total, 20/total"
   ]
  },
  {
   "cell_type": "code",
   "execution_count": null,
   "metadata": {
    "colab": {
     "base_uri": "https://localhost:8080/"
    },
    "id": "Mm3Y77EmlIiD",
    "outputId": "16ab098d-48ca-45a9-f992-adc10731b056"
   },
   "outputs": [
    {
     "data": {
      "text/plain": [
       "(88639.3, 132958.94999999998, 664794.75)"
      ]
     },
     "execution_count": 380,
     "metadata": {},
     "output_type": "execute_result"
    }
   ],
   "source": [
    "N = 832083\n",
    "N*0.1 , N*0.15 , N*0.75"
   ]
  },
  {
   "cell_type": "code",
   "execution_count": null,
   "metadata": {
    "colab": {
     "base_uri": "https://localhost:8080/",
     "height": 1000
    },
    "id": "_Vwy-xuTlRES",
    "outputId": "dceee3d3-c75b-466c-9f06-1bba5a873f4b"
   },
   "outputs": [
    {
     "name": "stdout",
     "output_type": "stream",
     "text": [
      "1000\n",
      "2000\n",
      "3000\n",
      "4000\n",
      "5000\n",
      "6000\n",
      "7000\n",
      "8000\n",
      "9000\n",
      "10000\n",
      "11000\n",
      "12000\n",
      "13000\n",
      "14000\n",
      "15000\n",
      "16000\n",
      "17000\n",
      "18000\n",
      "19000\n",
      "20000\n",
      "21000\n",
      "22000\n",
      "23000\n",
      "24000\n",
      "25000\n",
      "26000\n",
      "27000\n",
      "28000\n",
      "29000\n",
      "30000\n",
      "31000\n",
      "32000\n",
      "33000\n",
      "34000\n",
      "35000\n",
      "36000\n",
      "37000\n",
      "38000\n",
      "39000\n",
      "40000\n",
      "41000\n",
      "42000\n",
      "43000\n",
      "44000\n",
      "45000\n",
      "46000\n",
      "47000\n",
      "48000\n",
      "49000\n",
      "50000\n",
      "51000\n",
      "52000\n",
      "53000\n",
      "54000\n",
      "55000\n",
      "56000\n",
      "57000\n",
      "58000\n",
      "59000\n",
      "60000\n",
      "61000\n",
      "62000\n",
      "63000\n",
      "64000\n",
      "65000\n",
      "66000\n",
      "67000\n",
      "68000\n",
      "69000\n",
      "70000\n",
      "71000\n",
      "72000\n",
      "73000\n",
      "74000\n",
      "75000\n",
      "76000\n",
      "77000\n",
      "78000\n",
      "79000\n",
      "80000\n",
      "81000\n",
      "82000\n",
      "83000\n",
      "84000\n",
      "85000\n",
      "86000\n",
      "87000\n",
      "88000\n"
     ]
    },
    {
     "data": {
      "application/javascript": [
       "\n",
       "    async function download(id, filename, size) {\n",
       "      if (!google.colab.kernel.accessAllowed) {\n",
       "        return;\n",
       "      }\n",
       "      const div = document.createElement('div');\n",
       "      const label = document.createElement('label');\n",
       "      label.textContent = `Downloading \"${filename}\": `;\n",
       "      div.appendChild(label);\n",
       "      const progress = document.createElement('progress');\n",
       "      progress.max = size;\n",
       "      div.appendChild(progress);\n",
       "      document.body.appendChild(div);\n",
       "\n",
       "      const buffers = [];\n",
       "      let downloaded = 0;\n",
       "\n",
       "      const channel = await google.colab.kernel.comms.open(id);\n",
       "      // Send a message to notify the kernel that we're ready.\n",
       "      channel.send({})\n",
       "\n",
       "      for await (const message of channel.messages) {\n",
       "        // Send a message to notify the kernel that we're ready.\n",
       "        channel.send({})\n",
       "        if (message.buffers) {\n",
       "          for (const buffer of message.buffers) {\n",
       "            buffers.push(buffer);\n",
       "            downloaded += buffer.byteLength;\n",
       "            progress.value = downloaded;\n",
       "          }\n",
       "        }\n",
       "      }\n",
       "      const blob = new Blob(buffers, {type: 'application/binary'});\n",
       "      const a = document.createElement('a');\n",
       "      a.href = window.URL.createObjectURL(blob);\n",
       "      a.download = filename;\n",
       "      div.appendChild(a);\n",
       "      a.click();\n",
       "      div.remove();\n",
       "    }\n",
       "  "
      ],
      "text/plain": [
       "<IPython.core.display.Javascript object>"
      ]
     },
     "metadata": {},
     "output_type": "display_data"
    },
    {
     "data": {
      "application/javascript": [
       "download(\"download_fc775bfb-b2fe-429d-baf1-85f0cbbc9c58\", \"triplets_dev.csv\", 1624442)"
      ],
      "text/plain": [
       "<IPython.core.display.Javascript object>"
      ]
     },
     "metadata": {},
     "output_type": "display_data"
    },
    {
     "data": {
      "application/javascript": [
       "\n",
       "    async function download(id, filename, size) {\n",
       "      if (!google.colab.kernel.accessAllowed) {\n",
       "        return;\n",
       "      }\n",
       "      const div = document.createElement('div');\n",
       "      const label = document.createElement('label');\n",
       "      label.textContent = `Downloading \"${filename}\": `;\n",
       "      div.appendChild(label);\n",
       "      const progress = document.createElement('progress');\n",
       "      progress.max = size;\n",
       "      div.appendChild(progress);\n",
       "      document.body.appendChild(div);\n",
       "\n",
       "      const buffers = [];\n",
       "      let downloaded = 0;\n",
       "\n",
       "      const channel = await google.colab.kernel.comms.open(id);\n",
       "      // Send a message to notify the kernel that we're ready.\n",
       "      channel.send({})\n",
       "\n",
       "      for await (const message of channel.messages) {\n",
       "        // Send a message to notify the kernel that we're ready.\n",
       "        channel.send({})\n",
       "        if (message.buffers) {\n",
       "          for (const buffer of message.buffers) {\n",
       "            buffers.push(buffer);\n",
       "            downloaded += buffer.byteLength;\n",
       "            progress.value = downloaded;\n",
       "          }\n",
       "        }\n",
       "      }\n",
       "      const blob = new Blob(buffers, {type: 'application/binary'});\n",
       "      const a = document.createElement('a');\n",
       "      a.href = window.URL.createObjectURL(blob);\n",
       "      a.download = filename;\n",
       "      div.appendChild(a);\n",
       "      a.click();\n",
       "      div.remove();\n",
       "    }\n",
       "  "
      ],
      "text/plain": [
       "<IPython.core.display.Javascript object>"
      ]
     },
     "metadata": {},
     "output_type": "display_data"
    },
    {
     "data": {
      "application/javascript": [
       "download(\"download_ad90bf80-e5f1-4c13-9f8e-a35f5a45d975\", \"triplets_rest.csv\", 14615370)"
      ],
      "text/plain": [
       "<IPython.core.display.Javascript object>"
      ]
     },
     "metadata": {},
     "output_type": "display_data"
    }
   ],
   "source": [
    "triplets_dev, triplets_rest = get_subset_triplet(relations, 83209)\n",
    "triplets_dev.to_csv(\"triplets_dev.csv\", index=False)\n",
    "triplets_rest.to_csv(\"triplets_rest.csv\", index=False)\n",
    "files.download(\"triplets_dev.csv\")\n",
    "files.download(\"triplets_rest.csv\")"
   ]
  },
  {
   "cell_type": "code",
   "execution_count": null,
   "metadata": {
    "colab": {
     "base_uri": "https://localhost:8080/",
     "height": 1000
    },
    "id": "ksi5mZTt-yUN",
    "outputId": "f9a55970-19b3-4eaf-bef3-982184181558"
   },
   "outputs": [
    {
     "name": "stdout",
     "output_type": "stream",
     "text": [
      "1000\n",
      "2000\n",
      "3000\n",
      "4000\n",
      "5000\n",
      "6000\n",
      "7000\n",
      "8000\n",
      "9000\n",
      "10000\n",
      "11000\n",
      "12000\n",
      "13000\n",
      "14000\n",
      "15000\n",
      "16000\n",
      "17000\n",
      "18000\n",
      "19000\n",
      "20000\n",
      "21000\n",
      "22000\n",
      "23000\n",
      "24000\n",
      "25000\n",
      "26000\n",
      "27000\n",
      "28000\n",
      "29000\n",
      "30000\n",
      "31000\n",
      "32000\n",
      "33000\n",
      "34000\n",
      "35000\n",
      "36000\n",
      "37000\n",
      "38000\n",
      "39000\n",
      "40000\n",
      "41000\n",
      "42000\n",
      "43000\n",
      "44000\n",
      "45000\n",
      "46000\n",
      "47000\n",
      "48000\n",
      "49000\n",
      "50000\n",
      "51000\n",
      "52000\n",
      "53000\n",
      "54000\n",
      "55000\n",
      "56000\n",
      "57000\n",
      "58000\n",
      "59000\n",
      "60000\n",
      "61000\n",
      "62000\n",
      "63000\n",
      "64000\n",
      "65000\n",
      "66000\n",
      "67000\n",
      "68000\n",
      "69000\n",
      "70000\n",
      "71000\n",
      "72000\n",
      "73000\n",
      "74000\n",
      "75000\n",
      "76000\n",
      "77000\n",
      "78000\n",
      "79000\n",
      "80000\n",
      "81000\n",
      "82000\n",
      "83000\n",
      "84000\n",
      "85000\n",
      "86000\n",
      "87000\n",
      "88000\n"
     ]
    },
    {
     "data": {
      "application/javascript": [
       "\n",
       "    async function download(id, filename, size) {\n",
       "      if (!google.colab.kernel.accessAllowed) {\n",
       "        return;\n",
       "      }\n",
       "      const div = document.createElement('div');\n",
       "      const label = document.createElement('label');\n",
       "      label.textContent = `Downloading \"${filename}\": `;\n",
       "      div.appendChild(label);\n",
       "      const progress = document.createElement('progress');\n",
       "      progress.max = size;\n",
       "      div.appendChild(progress);\n",
       "      document.body.appendChild(div);\n",
       "\n",
       "      const buffers = [];\n",
       "      let downloaded = 0;\n",
       "\n",
       "      const channel = await google.colab.kernel.comms.open(id);\n",
       "      // Send a message to notify the kernel that we're ready.\n",
       "      channel.send({})\n",
       "\n",
       "      for await (const message of channel.messages) {\n",
       "        // Send a message to notify the kernel that we're ready.\n",
       "        channel.send({})\n",
       "        if (message.buffers) {\n",
       "          for (const buffer of message.buffers) {\n",
       "            buffers.push(buffer);\n",
       "            downloaded += buffer.byteLength;\n",
       "            progress.value = downloaded;\n",
       "          }\n",
       "        }\n",
       "      }\n",
       "      const blob = new Blob(buffers, {type: 'application/binary'});\n",
       "      const a = document.createElement('a');\n",
       "      a.href = window.URL.createObjectURL(blob);\n",
       "      a.download = filename;\n",
       "      div.appendChild(a);\n",
       "      a.click();\n",
       "      div.remove();\n",
       "    }\n",
       "  "
      ],
      "text/plain": [
       "<IPython.core.display.Javascript object>"
      ]
     },
     "metadata": {},
     "output_type": "display_data"
    },
    {
     "data": {
      "application/javascript": [
       "download(\"download_7ca1029f-e303-4d2c-81ae-f349fdbe1508\", \"triplets_train.csv\", 12991916)"
      ],
      "text/plain": [
       "<IPython.core.display.Javascript object>"
      ]
     },
     "metadata": {},
     "output_type": "display_data"
    },
    {
     "data": {
      "application/javascript": [
       "\n",
       "    async function download(id, filename, size) {\n",
       "      if (!google.colab.kernel.accessAllowed) {\n",
       "        return;\n",
       "      }\n",
       "      const div = document.createElement('div');\n",
       "      const label = document.createElement('label');\n",
       "      label.textContent = `Downloading \"${filename}\": `;\n",
       "      div.appendChild(label);\n",
       "      const progress = document.createElement('progress');\n",
       "      progress.max = size;\n",
       "      div.appendChild(progress);\n",
       "      document.body.appendChild(div);\n",
       "\n",
       "      const buffers = [];\n",
       "      let downloaded = 0;\n",
       "\n",
       "      const channel = await google.colab.kernel.comms.open(id);\n",
       "      // Send a message to notify the kernel that we're ready.\n",
       "      channel.send({})\n",
       "\n",
       "      for await (const message of channel.messages) {\n",
       "        // Send a message to notify the kernel that we're ready.\n",
       "        channel.send({})\n",
       "        if (message.buffers) {\n",
       "          for (const buffer of message.buffers) {\n",
       "            buffers.push(buffer);\n",
       "            downloaded += buffer.byteLength;\n",
       "            progress.value = downloaded;\n",
       "          }\n",
       "        }\n",
       "      }\n",
       "      const blob = new Blob(buffers, {type: 'application/binary'});\n",
       "      const a = document.createElement('a');\n",
       "      a.href = window.URL.createObjectURL(blob);\n",
       "      a.download = filename;\n",
       "      div.appendChild(a);\n",
       "      a.click();\n",
       "      div.remove();\n",
       "    }\n",
       "  "
      ],
      "text/plain": [
       "<IPython.core.display.Javascript object>"
      ]
     },
     "metadata": {},
     "output_type": "display_data"
    },
    {
     "data": {
      "application/javascript": [
       "download(\"download_3a0ffc4e-8ea9-425a-abd7-d55cdf98a974\", \"triplets_test.csv\", 1623464)"
      ],
      "text/plain": [
       "<IPython.core.display.Javascript object>"
      ]
     },
     "metadata": {},
     "output_type": "display_data"
    }
   ],
   "source": [
    "triplets_test, triplets_train = get_subset_triplet(triplets_rest, 83209)\n",
    "triplets_train.to_csv(\"triplets_train.csv\", index=False)\n",
    "triplets_test.to_csv(\"triplets_test.csv\", index=False)\n",
    "files.download(\"triplets_train.csv\")\n",
    "files.download(\"triplets_test.csv\")"
   ]
  }
 ],
 "metadata": {
  "colab": {
   "collapsed_sections": [],
   "machine_shape": "hm",
   "name": "CSV2Triplets.ipynb",
   "provenance": []
  },
  "kernelspec": {
   "display_name": "Python 3 (ipykernel)",
   "language": "python",
   "name": "python3"
  },
  "language_info": {
   "codemirror_mode": {
    "name": "ipython",
    "version": 3
   },
   "file_extension": ".py",
   "mimetype": "text/x-python",
   "name": "python",
   "nbconvert_exporter": "python",
   "pygments_lexer": "ipython3",
   "version": "3.8.10"
  }
 },
 "nbformat": 4,
 "nbformat_minor": 4
}
