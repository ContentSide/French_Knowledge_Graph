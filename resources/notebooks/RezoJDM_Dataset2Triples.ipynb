{
  "nbformat": 4,
  "nbformat_minor": 0,
  "metadata": {
    "colab": {
      "name": "RezoJDM Dataset2Triples.ipynb",
      "provenance": [],
      "collapsed_sections": []
    },
    "kernelspec": {
      "name": "python3",
      "display_name": "Python 3"
    },
    "language_info": {
      "name": "python"
    }
  },
  "cells": [
    {
      "cell_type": "code",
      "metadata": {
        "colab": {
          "base_uri": "https://localhost:8080/"
        },
        "id": "vAI1TeAGI7W8",
        "outputId": "1d235947-bc57-4ed3-caaa-5eb21f83b02d"
      },
      "source": [
        "!git clone https://github.com/mehdi-mirzapour/RezoJDM-SDS.git"
      ],
      "execution_count": 1,
      "outputs": [
        {
          "output_type": "stream",
          "name": "stdout",
          "text": [
            "Cloning into 'RezoJDM-SDS'...\n",
            "remote: Enumerating objects: 106, done.\u001b[K\n",
            "remote: Counting objects: 100% (106/106), done.\u001b[K\n",
            "remote: Compressing objects: 100% (77/77), done.\u001b[K\n",
            "remote: Total 106 (delta 57), reused 74 (delta 28), pack-reused 0\u001b[K\n",
            "Receiving objects: 100% (106/106), 1.44 MiB | 16.07 MiB/s, done.\n",
            "Resolving deltas: 100% (57/57), done.\n"
          ]
        }
      ]
    },
    {
      "cell_type": "code",
      "metadata": {
        "colab": {
          "base_uri": "https://localhost:8080/"
        },
        "id": "V7pj2JUFJZ6T",
        "outputId": "7430bc7c-1f21-480f-8753-65233907ff57"
      },
      "source": [
        "%cd RezoJDM-SDS/"
      ],
      "execution_count": 3,
      "outputs": [
        {
          "output_type": "stream",
          "name": "stdout",
          "text": [
            "/content/RezoJDM-SDS\n"
          ]
        }
      ]
    },
    {
      "cell_type": "code",
      "metadata": {
        "id": "1SkRkZSGR2I9"
      },
      "source": [
        "!mkdir 'OpenKE format'"
      ],
      "execution_count": 49,
      "outputs": []
    },
    {
      "cell_type": "code",
      "metadata": {
        "id": "8l0TZ4lfI-x5"
      },
      "source": [
        "import pandas as pd\n",
        "import numpy as np\n",
        "train = pd.read_csv('datasets/train.csv')\n",
        "test  = pd.read_csv('datasets/test.csv')"
      ],
      "execution_count": 39,
      "outputs": []
    },
    {
      "cell_type": "markdown",
      "metadata": {
        "id": "OJvLccLMLOtr"
      },
      "source": [
        "## Statistics of Dataset\n",
        "In this part we want to know how many nodes and relations our graph has\n",
        "### Output: # relation and # nodes"
      ]
    },
    {
      "cell_type": "code",
      "metadata": {
        "colab": {
          "base_uri": "https://localhost:8080/"
        },
        "id": "yIpWfv2-JURS",
        "outputId": "d6c08ffe-34cb-4318-f3dd-9cdaf5fcc50d"
      },
      "source": [
        "Relation2id = {j:i for i,j in enumerate(train.keys()[2:])}\n",
        "Id2Relation = {j:i for i , j in Relation2id.items()}\n",
        "Entities = list(set(train['source_name'].values.tolist() + train['destination_name'].values.tolist() + test['source_name'].values.tolist() + test['destination_name'].values.tolist()))\n",
        "Entities2id = {j:i for i,j in enumerate(Entities)}\n",
        "len(Relation2id),len(Entities)"
      ],
      "execution_count": 40,
      "outputs": [
        {
          "output_type": "execute_result",
          "data": {
            "text/plain": [
              "(10, 23654)"
            ]
          },
          "metadata": {},
          "execution_count": 40
        }
      ]
    },
    {
      "cell_type": "markdown",
      "metadata": {
        "id": "0YfcnyuCLrSL"
      },
      "source": [
        "## Dataset to triples: paris france 01000000 => paris capitalof paris\n",
        "For using some embedding libaries such as OpenKE we need to transfor our dataset to triples : (head, tail, relation)"
      ]
    },
    {
      "cell_type": "code",
      "metadata": {
        "colab": {
          "base_uri": "https://localhost:8080/"
        },
        "id": "7jctYDdNJUsq",
        "outputId": "9dfc4994-aef1-4891-894e-10dde3839fac"
      },
      "source": [
        "def csv2triple(train):\n",
        "  Train_triples = []\n",
        "  for row in train.values.tolist():\n",
        "    head = row[0]\n",
        "    tail = row[1]\n",
        "    for i in range(len(row[2:])):\n",
        "      if row[2+i] == 1:\n",
        "        relation = Id2Relation[i]\n",
        "        Train_triples.append([head,tail,relation])\n",
        "  return Train_triples\n",
        "\n",
        "Train_triples = csv2triple(train)\n",
        "Test_triples  = csv2triple(test)\n",
        "len(Train_triples),len(Test_triples)"
      ],
      "execution_count": 41,
      "outputs": [
        {
          "output_type": "execute_result",
          "data": {
            "text/plain": [
              "(104030, 26032)"
            ]
          },
          "metadata": {},
          "execution_count": 41
        }
      ]
    },
    {
      "cell_type": "code",
      "metadata": {
        "colab": {
          "base_uri": "https://localhost:8080/"
        },
        "id": "tlZbAl49JUv6",
        "outputId": "5df7f174-1047-4768-94c4-5292ff9d7ed4"
      },
      "source": [
        "Train_triples[:10]"
      ],
      "execution_count": 42,
      "outputs": [
        {
          "output_type": "execute_result",
          "data": {
            "text/plain": [
              "[['espagnol', 'Espagne', 'r_holo'],\n",
              " ['Astéracées', 'marguerite', 'r_has_part'],\n",
              " ['pleurer', 'trauma', 'r_causatif'],\n",
              " ['Manet', 'artiste-peintre', 'r_isa'],\n",
              " ['mouvement', 'ordre', 'r_causatif'],\n",
              " ['cétacé', 'mer', 'r_lieu'],\n",
              " ['marin', 'voilier', 'r_holo'],\n",
              " ['marin', 'voilier', 'r_lieu'],\n",
              " ['CV', 'biographie', 'r_isa'],\n",
              " ['rouler', 'homme', 'r_patient']]"
            ]
          },
          "metadata": {},
          "execution_count": 42
        }
      ]
    },
    {
      "cell_type": "markdown",
      "metadata": {
        "id": "dtjTTuCIO8hV"
      },
      "source": [
        "## Now we should convert Dataset to numerics"
      ]
    },
    {
      "cell_type": "code",
      "metadata": {
        "id": "s4HgDcxBNcXd"
      },
      "source": [
        "def Triples2IDs(triples):\n",
        "  for i in range(len(triples)):\n",
        "    triples[i][0] = Entities2id[triples[i][0]]\n",
        "    triples[i][1] = Entities2id[triples[i][1]]\n",
        "    triples[i][2] = Relation2id[triples[i][2]]\n",
        "  return triples    \n",
        "train = Triples2IDs(Train_triples)\n",
        "test  = Triples2IDs(Test_triples)"
      ],
      "execution_count": 43,
      "outputs": []
    },
    {
      "cell_type": "markdown",
      "metadata": {
        "id": "jNpX1SjeQFLa"
      },
      "source": [
        "## Conver to files"
      ]
    },
    {
      "cell_type": "code",
      "metadata": {
        "colab": {
          "base_uri": "https://localhost:8080/"
        },
        "id": "0gqP3K6JNcaa",
        "outputId": "461189a2-2c57-4933-d8c8-c62b96b052bc"
      },
      "source": [
        "train[:5]"
      ],
      "execution_count": 47,
      "outputs": [
        {
          "output_type": "execute_result",
          "data": {
            "text/plain": [
              "[[16115, 18634, 5],\n",
              " [10123, 968, 4],\n",
              " [5564, 10624, 2],\n",
              " [13971, 2530, 7],\n",
              " [2413, 19727, 2]]"
            ]
          },
          "metadata": {},
          "execution_count": 47
        }
      ]
    },
    {
      "cell_type": "code",
      "metadata": {
        "id": "RR2ALkKZQrDY"
      },
      "source": [
        "def graph2file(triples,file_name):\n",
        "  file = open('OpenKE format/' + str(file_name),'w')\n",
        "  file.write(str(len(triples))+ '\\n')\n",
        "  for i in range(len(triples)):\n",
        "    file.write(str(triples[i][0]) +' '+ str(triples[i][1]) +' '+ str(triples[i][2])+'\\n')\n",
        "  file.close()\n",
        "graph2file(train,'train2id.txt')\n",
        "graph2file(test,'test2id.txt')\n",
        "graph2file(test,'valid2id.txt') # the same BC we need it"
      ],
      "execution_count": 54,
      "outputs": []
    },
    {
      "cell_type": "code",
      "metadata": {
        "id": "Ee-YuAXVQsRz"
      },
      "source": [
        "file = open('OpenKE format/relation2id.txt','w')\n",
        "file.write(str(len(Id2Relation))+ '\\n')\n",
        "for k,v in Id2Relation.items():\n",
        "  file.write(str(k) +'\\t'+ str(v)+'\\n')\n",
        "file.close()"
      ],
      "execution_count": 55,
      "outputs": []
    },
    {
      "cell_type": "code",
      "metadata": {
        "id": "hM-sEjYyQsU5"
      },
      "source": [
        "file = open('OpenKE format/entity2id.txt','w')\n",
        "file.write(str(len(Entities2id))+ '\\n')\n",
        "for k,v in Entities2id.items():\n",
        "  file.write(str(k) +'\\t'+ str(v)+'\\n')\n",
        "file.close()"
      ],
      "execution_count": 57,
      "outputs": []
    },
    {
      "cell_type": "code",
      "metadata": {
        "colab": {
          "base_uri": "https://localhost:8080/"
        },
        "id": "UZVMTaZKS-M2",
        "outputId": "a52ade52-47c5-4717-d8d0-6625829df412"
      },
      "source": [
        "!zip -r 'opke.zip' 'OpenKE format'"
      ],
      "execution_count": 63,
      "outputs": [
        {
          "output_type": "stream",
          "name": "stdout",
          "text": [
            "updating: OpenKE format/ (stored 0%)\n",
            "  adding: OpenKE format/test2id.txt (deflated 61%)\n",
            "  adding: OpenKE format/valid2id.txt (deflated 61%)\n",
            "  adding: OpenKE format/train2id.txt (deflated 61%)\n",
            "  adding: OpenKE format/relation2id.txt (deflated 24%)\n",
            "  adding: OpenKE format/entity2id.txt (deflated 52%)\n"
          ]
        }
      ]
    },
    {
      "cell_type": "code",
      "metadata": {
        "id": "WYv5zt1oTKZh"
      },
      "source": [
        ""
      ],
      "execution_count": null,
      "outputs": []
    }
  ]
}