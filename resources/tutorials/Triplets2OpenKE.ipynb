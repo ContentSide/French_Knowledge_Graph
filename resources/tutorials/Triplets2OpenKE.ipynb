{
  "nbformat": 4,
  "nbformat_minor": 0,
  "metadata": {
    "colab": {
      "name": "Triplets2OpenKE.ipynb",
      "provenance": [],
      "collapsed_sections": [],
      "machine_shape": "hm"
    },
    "kernelspec": {
      "display_name": "Python 3",
      "name": "python3"
    },
    "language_info": {
      "name": "python"
    }
  },
  "cells": [
    {
      "cell_type": "code",
      "metadata": {
        "id": "NxhtizUwUMLD",
        "colab": {
          "base_uri": "https://localhost:8080/"
        },
        "outputId": "9546fdb1-d51e-4083-9c86-178447f8c7cf"
      },
      "source": [
        "import sys\n",
        "import os\n",
        "import pandas as pd\n",
        "import warnings\n",
        "import re\n",
        "import datetime\n",
        "\n",
        "!mkdir 'OpenKE'\n",
        "! git clone https://github.com/ContentSide/RezoJDM-SDS.git"
      ],
      "execution_count": 1,
      "outputs": [
        {
          "output_type": "stream",
          "name": "stdout",
          "text": [
            "Cloning into 'RezoJDM-SDS'...\n",
            "remote: Enumerating objects: 35, done.\u001b[K\n",
            "remote: Counting objects: 100% (35/35), done.\u001b[K\n",
            "remote: Compressing objects: 100% (29/29), done.\u001b[K\n",
            "remote: Total 35 (delta 5), reused 34 (delta 4), pack-reused 0\u001b[K\n",
            "Unpacking objects: 100% (35/35), done.\n"
          ]
        }
      ]
    },
    {
      "cell_type": "code",
      "metadata": {
        "id": "ehnoIncwJkvx"
      },
      "source": [
        "triplets_train = pd.read_csv(\"/content/RezoJDM-SDS/datasets/Triplets/triplets_train.csv\", index_col=False)\n",
        "triplets_dev = pd.read_csv(\"/content/RezoJDM-SDS/datasets/Triplets/triplets_dev.csv\", index_col=False)\n",
        "triplets_test = pd.read_csv(\"/content/RezoJDM-SDS/datasets/Triplets/triplets_test.csv\", index_col=False)\n",
        "relation_names = pd.read_csv(\"/content/RezoJDM-SDS/datasets/Triplets/relations_ids_names.csv\", index_col=False)"
      ],
      "execution_count": 2,
      "outputs": []
    },
    {
      "cell_type": "code",
      "metadata": {
        "id": "CMcGlIZVLIFm"
      },
      "source": [
        "nodes_in_train = set(triplets_train[\"n1\"]).union(set(triplets_train[\"n2\"]))\n",
        "nodes_in_dev = set(triplets_dev[\"n1\"]).union(set(triplets_dev[\"n2\"]))\n",
        "nodes_in_test = set(triplets_test[\"n1\"]).union(set(triplets_test[\"n2\"]))\n",
        "\n",
        "nodes = nodes_in_train.intersection(nodes_in_dev)\n",
        "nodes = nodes.intersection(nodes_in_test)\n",
        "nodes = list(nodes)\n",
        "\n",
        "def remove_delta_nodes(triplets, nodes):\n",
        "    return triplets[triplets[\"n1\"].isin(nodes) & triplets[\"n2\"].isin(nodes)].reset_index()\n",
        "\n",
        "triplets_train = remove_delta_nodes(triplets_train, nodes)\n",
        "triplets_dev = remove_delta_nodes(triplets_dev, nodes)\n",
        "triplets_test = remove_delta_nodes(triplets_test, nodes)"
      ],
      "execution_count": 3,
      "outputs": []
    },
    {
      "cell_type": "code",
      "metadata": {
        "colab": {
          "base_uri": "https://localhost:8080/"
        },
        "id": "d8w1w2uZNCuH",
        "outputId": "be203235-81bb-47af-8647-d23c87cebbe5"
      },
      "source": [
        "nodes_in_train = set(triplets_train[\"n1\"]).union(set(triplets_train[\"n2\"]))\n",
        "nodes_in_dev = set(triplets_dev[\"n1\"]).union(set(triplets_dev[\"n2\"]))\n",
        "nodes_in_test = set(triplets_test[\"n1\"]).union(set(triplets_test[\"n2\"]))\n",
        "\n",
        "len(nodes_in_train), len(nodes_in_dev), len(nodes_in_test)"
      ],
      "execution_count": 4,
      "outputs": [
        {
          "output_type": "execute_result",
          "data": {
            "text/plain": [
              "(15525, 15523, 15523)"
            ]
          },
          "metadata": {},
          "execution_count": 4
        }
      ]
    },
    {
      "cell_type": "code",
      "metadata": {
        "colab": {
          "base_uri": "https://localhost:8080/"
        },
        "id": "jAA5wE1_NU8H",
        "outputId": "d5ac66e2-7cff-4e85-b8e3-30598782fcad"
      },
      "source": [
        "len(triplets_train[\"t\"].unique()), len(triplets_dev[\"t\"].unique()), len(triplets_test[\"t\"].unique())"
      ],
      "execution_count": 5,
      "outputs": [
        {
          "output_type": "execute_result",
          "data": {
            "text/plain": [
              "(54, 54, 54)"
            ]
          },
          "metadata": {},
          "execution_count": 5
        }
      ]
    },
    {
      "cell_type": "code",
      "metadata": {
        "colab": {
          "base_uri": "https://localhost:8080/"
        },
        "id": "8Szeth11NXnB",
        "outputId": "f1147463-629f-4995-9f6e-85a969ac940a"
      },
      "source": [
        "triplets_train.shape[0], triplets_dev.shape[0], triplets_test.shape[0]"
      ],
      "execution_count": 6,
      "outputs": [
        {
          "output_type": "execute_result",
          "data": {
            "text/plain": [
              "(702470, 88304, 88179)"
            ]
          },
          "metadata": {},
          "execution_count": 6
        }
      ]
    },
    {
      "cell_type": "code",
      "metadata": {
        "id": "Ak_HNbyVMjWW"
      },
      "source": [
        "def create_OpenKE_txt(triplets_csv, file_name):\n",
        "\n",
        "    line = triplets_csv.shape[0]\n",
        "    text = \"\"\n",
        "\n",
        "    text += (str(line) + \"\\n\")\n",
        "\n",
        "    for _, row in triplets_csv.iterrows():\n",
        "        text += (str(row[\"n1\"]) +\" \" +str(row[\"n2\"]) + \" \"+str(row[\"t\"]) +\"\\n\")\n",
        "    text = text[:-1]\n",
        "\n",
        "    output_file = open(file_name,'w')\n",
        "    output_file.write(text)\n",
        "    output_file.close()"
      ],
      "execution_count": 10,
      "outputs": []
    },
    {
      "cell_type": "code",
      "metadata": {
        "id": "bArZVwexHro5"
      },
      "source": [
        "create_OpenKE_txt(triplets_train,'./OpenKE/train2id.txt')\n",
        "create_OpenKE_txt(triplets_dev,'./OpenKE/valid2id.txt')\n",
        "create_OpenKE_txt(triplets_test,'./OpenKE/test2id.txt')"
      ],
      "execution_count": 12,
      "outputs": []
    },
    {
      "cell_type": "code",
      "metadata": {
        "id": "7WhVZ5AkOhUv"
      },
      "source": [
        "nodes_all = pd.read_csv(\"/content/RezoJDM-SDS/datasets/Filtered_Nodes_Edges/nodes.csv\", index_col=False)\n",
        "\n",
        "nodes_in_train = set(triplets_train[\"n1\"]).union(set(triplets_train[\"n2\"]))\n",
        "nodes_in_dev = set(triplets_dev[\"n1\"]).union(set(triplets_dev[\"n2\"]))\n",
        "nodes_in_test = set(triplets_test[\"n1\"]).union(set(triplets_test[\"n2\"]))\n",
        "\n",
        "nodes = nodes_in_train.union(nodes_in_dev)\n",
        "nodes = nodes.union(nodes_in_test)\n",
        "nodes = list(nodes)"
      ],
      "execution_count": 13,
      "outputs": []
    },
    {
      "cell_type": "code",
      "metadata": {
        "colab": {
          "base_uri": "https://localhost:8080/"
        },
        "id": "UqRk_mOakhbG",
        "outputId": "66ee826f-e468-46d5-9918-6c7c84158384"
      },
      "source": [
        "nodes_name = nodes_all[nodes_all[\"eid\"].isin(nodes)].reset_index()[[\"eid\", \"n\"]]\n",
        "len(nodes), nodes_all.shape[0]"
      ],
      "execution_count": 14,
      "outputs": [
        {
          "output_type": "execute_result",
          "data": {
            "text/plain": [
              "(15525, 73106)"
            ]
          },
          "metadata": {},
          "execution_count": 14
        }
      ]
    },
    {
      "cell_type": "code",
      "metadata": {
        "id": "xUoo8eUXWG1v"
      },
      "source": [
        "def create_OpenKE_ent(nodes_name, file_name):\n",
        "    \n",
        "    line = nodes_name.shape[0]\n",
        "    text = \"\"\n",
        "\n",
        "    text += (str(line) + \"\\n\")\n",
        "\n",
        "    for _, row in nodes_name.iterrows():\n",
        "        text += (row[\"n\"] +\"\\t\" +str(row[\"eid\"])+\"\\n\")\n",
        "    text = text[:-1]\n",
        "\n",
        "    output_file = open(file_name,'w')\n",
        "    output_file.write(text)\n",
        "    output_file.close()\n",
        "\n",
        "\n",
        "def create_OpenKE_rel(nodes_name, file_name):\n",
        "    \n",
        "    line = nodes_name.shape[0]\n",
        "    text = \"\"\n",
        "\n",
        "    text += (str(line) + \"\\n\")\n",
        "\n",
        "    for _, row in nodes_name.iterrows():\n",
        "        text += (row[\"relation\"] +\"\\t\" +str(row[\"relation_id\"])+\"\\n\")\n",
        "    text = text[:-1]\n",
        "\n",
        "    output_file = open(file_name,'w')\n",
        "    output_file.write(text)\n",
        "    output_file.close()"
      ],
      "execution_count": 17,
      "outputs": []
    },
    {
      "cell_type": "code",
      "metadata": {
        "id": "r2u-isJal48W"
      },
      "source": [
        "create_OpenKE_ent(nodes_name, \"./OpenKE/entitiy2id.txt\")\n",
        "create_OpenKE_rel(relation_names, \"./OpenKE/relation2id.txt\")"
      ],
      "execution_count": 18,
      "outputs": []
    },
    {
      "cell_type": "code",
      "metadata": {
        "colab": {
          "base_uri": "https://localhost:8080/"
        },
        "id": "MZ3do6KdY9MN",
        "outputId": "98734ddb-93b1-4644-9edf-fe28de601420"
      },
      "source": [
        "!zip -r 'OpenKE.zip' 'OpenKE'"
      ],
      "execution_count": 19,
      "outputs": [
        {
          "output_type": "stream",
          "name": "stdout",
          "text": [
            "  adding: OpenKE/ (stored 0%)\n",
            "  adding: OpenKE/train2id.txt (deflated 69%)\n",
            "  adding: OpenKE/relation2id.txt (deflated 53%)\n",
            "  adding: OpenKE/test2id.txt (deflated 58%)\n",
            "  adding: OpenKE/valid2id.txt (deflated 58%)\n",
            "  adding: OpenKE/entitiy2id.txt (deflated 52%)\n"
          ]
        }
      ]
    },
    {
      "cell_type": "code",
      "metadata": {
        "id": "6XEj_7zWal_4"
      },
      "source": [
        ""
      ],
      "execution_count": null,
      "outputs": []
    }
  ]
}