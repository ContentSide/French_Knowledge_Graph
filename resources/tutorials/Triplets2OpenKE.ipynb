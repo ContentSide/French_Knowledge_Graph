{
  "nbformat": 4,
  "nbformat_minor": 0,
  "metadata": {
    "colab": {
      "name": "Triplets2OpenKE.ipynb",
      "provenance": [],
      "collapsed_sections": [],
      "machine_shape": "hm"
    },
    "kernelspec": {
      "display_name": "Python 3",
      "name": "python3"
    },
    "language_info": {
      "name": "python"
    }
  },
  "cells": [
    {
      "cell_type": "code",
      "metadata": {
        "id": "NxhtizUwUMLD",
        "colab": {
          "base_uri": "https://localhost:8080/"
        },
        "outputId": "cc87e88d-4aae-4441-c84d-80f8d0756833"
      },
      "source": [
        "import sys\n",
        "import os\n",
        "import pandas as pd\n",
        "import warnings\n",
        "import re\n",
        "import datetime\n",
        "\n",
        "!mkdir 'RezoJDM-SDS-OpenKE'\n",
        "!git clone https://github.com/ContentSide/RezoJDM-SDS.git"
      ],
      "execution_count": null,
      "outputs": [
        {
          "output_type": "stream",
          "name": "stdout",
          "text": [
            "Cloning into 'RezoJDM-SDS'...\n",
            "remote: Enumerating objects: 51, done.\u001b[K\n",
            "remote: Counting objects: 100% (51/51), done.\u001b[K\n",
            "remote: Compressing objects: 100% (40/40), done.\u001b[K\n",
            "remote: Total 51 (delta 12), reused 48 (delta 9), pack-reused 0\u001b[K\n",
            "Unpacking objects: 100% (51/51), done.\n"
          ]
        }
      ]
    },
    {
      "cell_type": "code",
      "metadata": {
        "id": "ehnoIncwJkvx"
      },
      "source": [
        "triplets_train = pd.read_csv(\"/content/RezoJDM-SDS/datasets/Triplets/triplets_train.csv\", index_col=False)\n",
        "triplets_dev = pd.read_csv(\"/content/RezoJDM-SDS/datasets/Triplets/triplets_dev.csv\", index_col=False)\n",
        "triplets_test = pd.read_csv(\"/content/RezoJDM-SDS/datasets/Triplets/triplets_test.csv\", index_col=False)\n",
        "\n",
        "relation_names = pd.read_csv(\"/content/RezoJDM-SDS/datasets/Triplets/relations_ids_names.csv\", index_col=False)\n",
        "nodes_all = pd.read_csv(\"/content/RezoJDM-SDS/datasets/Filtered_Nodes_Edges/nodes.csv\", index_col=False)"
      ],
      "execution_count": null,
      "outputs": []
    },
    {
      "cell_type": "code",
      "metadata": {
        "id": "CMcGlIZVLIFm"
      },
      "source": [
        "nodes_in_train = set(triplets_train[\"n1\"]).union(set(triplets_train[\"n2\"]))\n",
        "nodes_in_dev = set(triplets_dev[\"n1\"]).union(set(triplets_dev[\"n2\"]))\n",
        "nodes_in_test = set(triplets_test[\"n1\"]).union(set(triplets_test[\"n2\"]))\n",
        "\n",
        "nodes = nodes_in_train.intersection(nodes_in_dev)\n",
        "nodes = nodes.intersection(nodes_in_test)\n",
        "nodes = list(nodes)\n",
        "\n",
        "def remove_delta_nodes(triplets, nodes):\n",
        "    return triplets[triplets[\"n1\"].isin(nodes) & triplets[\"n2\"].isin(nodes)].reset_index()\n",
        "\n",
        "triplets_train = remove_delta_nodes(triplets_train, nodes)\n",
        "triplets_dev = remove_delta_nodes(triplets_dev, nodes)\n",
        "triplets_test = remove_delta_nodes(triplets_test, nodes)"
      ],
      "execution_count": null,
      "outputs": []
    },
    {
      "cell_type": "code",
      "metadata": {
        "id": "fU_-9NawIHik"
      },
      "source": [
        "nodes_in_train = set(triplets_train[\"n1\"]).union(set(triplets_train[\"n2\"]))\n",
        "nodes_in_dev = set(triplets_dev[\"n1\"]).union(set(triplets_dev[\"n2\"]))\n",
        "nodes_in_test = set(triplets_test[\"n1\"]).union(set(triplets_test[\"n2\"]))\n",
        "\n",
        "nodes = nodes_in_train.union(nodes_in_dev)\n",
        "nodes = nodes.union(nodes_in_test)\n",
        "nodes = list(nodes)"
      ],
      "execution_count": null,
      "outputs": []
    },
    {
      "cell_type": "code",
      "metadata": {
        "colab": {
          "base_uri": "https://localhost:8080/"
        },
        "id": "d8w1w2uZNCuH",
        "outputId": "bf7901c1-2d9d-44fc-913b-5e895fe4df8d"
      },
      "source": [
        "nodes_in_train = set(triplets_train[\"n1\"]).union(set(triplets_train[\"n2\"]))\n",
        "nodes_in_dev = set(triplets_dev[\"n1\"]).union(set(triplets_dev[\"n2\"]))\n",
        "nodes_in_test = set(triplets_test[\"n1\"]).union(set(triplets_test[\"n2\"]))\n",
        "\n",
        "len(nodes_in_train), len(nodes_in_dev), len(nodes_in_test)"
      ],
      "execution_count": null,
      "outputs": [
        {
          "output_type": "execute_result",
          "data": {
            "text/plain": [
              "(15525, 15523, 15523)"
            ]
          },
          "metadata": {},
          "execution_count": 60
        }
      ]
    },
    {
      "cell_type": "code",
      "metadata": {
        "colab": {
          "base_uri": "https://localhost:8080/"
        },
        "id": "zpklrEadIN9E",
        "outputId": "4bf0005c-0546-480a-9c20-41dd16e6f20d"
      },
      "source": [
        "nodes_name = nodes_all[nodes_all[\"eid\"].isin(nodes)].reset_index()[[\"eid\", \"n\"]]\n",
        "len(nodes_name), nodes_all.shape[0]"
      ],
      "execution_count": null,
      "outputs": [
        {
          "output_type": "execute_result",
          "data": {
            "text/plain": [
              "(15525, 73106)"
            ]
          },
          "metadata": {},
          "execution_count": 61
        }
      ]
    },
    {
      "cell_type": "code",
      "metadata": {
        "colab": {
          "base_uri": "https://localhost:8080/"
        },
        "id": "REcf_9TNJuc1",
        "outputId": "f02222f8-a43b-495f-a2fe-3d4732531eef"
      },
      "source": [
        "nodes_name = nodes_name.rename_axis('new_eid').reset_index()\n",
        "jdm2oke_node_mapping = {}\n",
        "for _ , row in nodes_name.iterrows():\n",
        "    jdm2oke_node_mapping[row.eid] = row.new_eid\n",
        "len(jdm2oke_node_mapping)"
      ],
      "execution_count": null,
      "outputs": [
        {
          "output_type": "execute_result",
          "data": {
            "text/plain": [
              "15525"
            ]
          },
          "metadata": {},
          "execution_count": 62
        }
      ]
    },
    {
      "cell_type": "code",
      "metadata": {
        "colab": {
          "base_uri": "https://localhost:8080/"
        },
        "id": "jAA5wE1_NU8H",
        "outputId": "8200cf38-adf3-4995-c10f-eb3a765f0159"
      },
      "source": [
        "len(triplets_train[\"t\"].unique()), len(triplets_dev[\"t\"].unique()), len(triplets_test[\"t\"].unique())"
      ],
      "execution_count": null,
      "outputs": [
        {
          "output_type": "execute_result",
          "data": {
            "text/plain": [
              "(54, 54, 54)"
            ]
          },
          "metadata": {},
          "execution_count": 63
        }
      ]
    },
    {
      "cell_type": "code",
      "metadata": {
        "colab": {
          "base_uri": "https://localhost:8080/"
        },
        "id": "8Szeth11NXnB",
        "outputId": "5f6a46bc-38f4-4c1a-fa34-fc000d181069"
      },
      "source": [
        "triplets_train.shape[0], triplets_dev.shape[0], triplets_test.shape[0]"
      ],
      "execution_count": null,
      "outputs": [
        {
          "output_type": "execute_result",
          "data": {
            "text/plain": [
              "(702470, 88304, 88179)"
            ]
          },
          "metadata": {},
          "execution_count": 64
        }
      ]
    },
    {
      "cell_type": "code",
      "metadata": {
        "colab": {
          "base_uri": "https://localhost:8080/"
        },
        "id": "kIjo04FYMCvX",
        "outputId": "a79cd5ff-47af-4ee4-9a15-ca9dcc878bd3"
      },
      "source": [
        "relation_names = relation_names[relation_names[\"relation_id\"].isin(triplets_train[\"t\"].unique())].reset_index()[[\"relation\",\"relation_id\"]]\n",
        "relation_names = relation_names.rename_axis('new_relation_id').reset_index()\n",
        "jdm2oke_relation_mapping = {}\n",
        "for _ , row in relation_names.iterrows():\n",
        "    jdm2oke_relation_mapping[row.relation_id] = row.new_relation_id\n",
        "len(jdm2oke_relation_mapping)"
      ],
      "execution_count": null,
      "outputs": [
        {
          "output_type": "execute_result",
          "data": {
            "text/plain": [
              "54"
            ]
          },
          "metadata": {},
          "execution_count": 65
        }
      ]
    },
    {
      "cell_type": "code",
      "metadata": {
        "id": "Ak_HNbyVMjWW"
      },
      "source": [
        "def create_OpenKE_txt(triplets_csv, file_name):\n",
        "\n",
        "    line = triplets_csv.shape[0]\n",
        "    text = \"\"\n",
        "\n",
        "    text += (str(line) + \"\\n\")\n",
        "\n",
        "    for _, row in triplets_csv.iterrows():\n",
        "        text += (str(jdm2oke_node_mapping[row[\"n1\"]]) +\" \" +str(jdm2oke_node_mapping[row[\"n2\"]]) + \" \"+str(jdm2oke_relation_mapping[row[\"t\"]]) +\"\\n\")\n",
        "    text = text[:-1]\n",
        "\n",
        "    output_file = open(file_name,'w')\n",
        "    output_file.write(text)\n",
        "    output_file.close()"
      ],
      "execution_count": null,
      "outputs": []
    },
    {
      "cell_type": "code",
      "metadata": {
        "id": "bArZVwexHro5"
      },
      "source": [
        "create_OpenKE_txt(triplets_train,'./RezoJDM-SDS-OpenKE/train2id.txt')\n",
        "create_OpenKE_txt(triplets_dev,'./RezoJDM-SDS-OpenKE/valid2id.txt')\n",
        "create_OpenKE_txt(triplets_test,'./RezoJDM-SDS-OpenKE/test2id.txt')"
      ],
      "execution_count": null,
      "outputs": []
    },
    {
      "cell_type": "code",
      "metadata": {
        "id": "xUoo8eUXWG1v"
      },
      "source": [
        "def create_OpenKE_ent(nodes_name, file_name):\n",
        "    \n",
        "    line = nodes_name.shape[0]\n",
        "    text = \"\"\n",
        "\n",
        "    text += (str(line) + \"\\n\")\n",
        "\n",
        "    for _, row in nodes_name.iterrows():\n",
        "        text += (row[\"n\"] +\"\\t\" +str(row[\"new_eid\"])+\"\\n\")\n",
        "    text = text[:-1]\n",
        "\n",
        "    output_file = open(file_name,'w')\n",
        "    output_file.write(text)\n",
        "    output_file.close()\n",
        "\n",
        "\n",
        "def create_OpenKE_rel(nodes_name, file_name):\n",
        "    \n",
        "    line = nodes_name.shape[0]\n",
        "    text = \"\"\n",
        "\n",
        "    text += (str(line) + \"\\n\")\n",
        "\n",
        "    for _, row in nodes_name.iterrows():\n",
        "        text += (row[\"relation\"] +\"\\t\" +str(row[\"new_relation_id\"])+\"\\n\")\n",
        "    text = text[:-1]\n",
        "\n",
        "    output_file = open(file_name,'w')\n",
        "    output_file.write(text)\n",
        "    output_file.close()"
      ],
      "execution_count": null,
      "outputs": []
    },
    {
      "cell_type": "code",
      "metadata": {
        "id": "r2u-isJal48W"
      },
      "source": [
        "create_OpenKE_ent(nodes_name, \"./RezoJDM-SDS-OpenKE/entity2id.txt\")\n",
        "create_OpenKE_rel(relation_names, \"./RezoJDM-SDS-OpenKE/relation2id.txt\")"
      ],
      "execution_count": null,
      "outputs": []
    },
    {
      "cell_type": "code",
      "metadata": {
        "colab": {
          "base_uri": "https://localhost:8080/",
          "height": 419
        },
        "id": "C_IIl3ITeKI7",
        "outputId": "5458cb45-7f1b-42be-f80c-c784a3ccc7a8"
      },
      "source": [
        "nodes_name"
      ],
      "execution_count": null,
      "outputs": [
        {
          "output_type": "execute_result",
          "data": {
            "text/html": [
              "<div>\n",
              "<style scoped>\n",
              "    .dataframe tbody tr th:only-of-type {\n",
              "        vertical-align: middle;\n",
              "    }\n",
              "\n",
              "    .dataframe tbody tr th {\n",
              "        vertical-align: top;\n",
              "    }\n",
              "\n",
              "    .dataframe thead th {\n",
              "        text-align: right;\n",
              "    }\n",
              "</style>\n",
              "<table border=\"1\" class=\"dataframe\">\n",
              "  <thead>\n",
              "    <tr style=\"text-align: right;\">\n",
              "      <th></th>\n",
              "      <th>new_eid</th>\n",
              "      <th>eid</th>\n",
              "      <th>n</th>\n",
              "    </tr>\n",
              "  </thead>\n",
              "  <tbody>\n",
              "    <tr>\n",
              "      <th>0</th>\n",
              "      <td>0</td>\n",
              "      <td>1</td>\n",
              "      <td>vraiment</td>\n",
              "    </tr>\n",
              "    <tr>\n",
              "      <th>1</th>\n",
              "      <td>1</td>\n",
              "      <td>6</td>\n",
              "      <td>provenir</td>\n",
              "    </tr>\n",
              "    <tr>\n",
              "      <th>2</th>\n",
              "      <td>2</td>\n",
              "      <td>8</td>\n",
              "      <td>traversée</td>\n",
              "    </tr>\n",
              "    <tr>\n",
              "      <th>3</th>\n",
              "      <td>3</td>\n",
              "      <td>12</td>\n",
              "      <td>discréditer</td>\n",
              "    </tr>\n",
              "    <tr>\n",
              "      <th>4</th>\n",
              "      <td>4</td>\n",
              "      <td>16</td>\n",
              "      <td>Maria Callas</td>\n",
              "    </tr>\n",
              "    <tr>\n",
              "      <th>...</th>\n",
              "      <td>...</td>\n",
              "      <td>...</td>\n",
              "      <td>...</td>\n",
              "    </tr>\n",
              "    <tr>\n",
              "      <th>15520</th>\n",
              "      <td>15520</td>\n",
              "      <td>437989</td>\n",
              "      <td>Dita von Teese</td>\n",
              "    </tr>\n",
              "    <tr>\n",
              "      <th>15521</th>\n",
              "      <td>15521</td>\n",
              "      <td>463696</td>\n",
              "      <td>hémangiome caverneux</td>\n",
              "    </tr>\n",
              "    <tr>\n",
              "      <th>15522</th>\n",
              "      <td>15522</td>\n",
              "      <td>463699</td>\n",
              "      <td>chorioangiome</td>\n",
              "    </tr>\n",
              "    <tr>\n",
              "      <th>15523</th>\n",
              "      <td>15523</td>\n",
              "      <td>465567</td>\n",
              "      <td>Pierre Boulle</td>\n",
              "    </tr>\n",
              "    <tr>\n",
              "      <th>15524</th>\n",
              "      <td>15524</td>\n",
              "      <td>465579</td>\n",
              "      <td>Pierre Pelot</td>\n",
              "    </tr>\n",
              "  </tbody>\n",
              "</table>\n",
              "<p>15525 rows × 3 columns</p>\n",
              "</div>"
            ],
            "text/plain": [
              "       new_eid     eid                     n\n",
              "0            0       1              vraiment\n",
              "1            1       6              provenir\n",
              "2            2       8             traversée\n",
              "3            3      12           discréditer\n",
              "4            4      16          Maria Callas\n",
              "...        ...     ...                   ...\n",
              "15520    15520  437989        Dita von Teese\n",
              "15521    15521  463696  hémangiome caverneux\n",
              "15522    15522  463699         chorioangiome\n",
              "15523    15523  465567         Pierre Boulle\n",
              "15524    15524  465579          Pierre Pelot\n",
              "\n",
              "[15525 rows x 3 columns]"
            ]
          },
          "metadata": {},
          "execution_count": 75
        }
      ]
    },
    {
      "cell_type": "code",
      "metadata": {
        "colab": {
          "base_uri": "https://localhost:8080/"
        },
        "id": "MZ3do6KdY9MN",
        "outputId": "913a066f-0351-48d6-9222-837e51af477a"
      },
      "source": [
        "!zip -r 'RezoJDM-SDS-OpenKE.zip' 'RezoJDM-SDS-OpenKE'"
      ],
      "execution_count": null,
      "outputs": [
        {
          "output_type": "stream",
          "name": "stdout",
          "text": [
            "  adding: RezoJDM-SDS-OpenKE/ (stored 0%)\n",
            "  adding: RezoJDM-SDS-OpenKE/entitiy2id.txt (deflated 52%)\n",
            "  adding: RezoJDM-SDS-OpenKE/valid2id.txt (deflated 59%)\n",
            "  adding: RezoJDM-SDS-OpenKE/train2id.txt (deflated 68%)\n",
            "  adding: RezoJDM-SDS-OpenKE/test2id.txt (deflated 59%)\n",
            "  adding: RezoJDM-SDS-OpenKE/relation2id.txt (deflated 49%)\n"
          ]
        }
      ]
    }
  ]
}