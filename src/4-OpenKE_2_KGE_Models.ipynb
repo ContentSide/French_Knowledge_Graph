{
  "nbformat": 4,
  "nbformat_minor": 0,
  "metadata": {
    "colab": {
      "name": "OpenKE_on_Rezo_jdm.ipynb",
      "provenance": [],
      "collapsed_sections": [],
      "machine_shape": "hm"
    },
    "kernelspec": {
      "name": "python3",
      "display_name": "Python 3"
    },
    "language_info": {
      "name": "python"
    },
    "accelerator": "GPU"
  },
  "cells": [
    {
      "cell_type": "markdown",
      "metadata": {
        "id": "BiIc8ypP0tMg"
      },
      "source": [
        "#Initiation"
      ]
    },
    {
      "cell_type": "code",
      "metadata": {
        "id": "wxAUAwxigXBV"
      },
      "source": [
        "!git clone -b OpenKE-PyTorch https://github.com/thunlp/OpenKE\n",
        "%cd OpenKE/\n",
        "!mkdir checkpoint\n",
        "!mkdir result\n",
        "%cd openke\n",
        "!bash make.sh\n",
        "%cd ..\n",
        "%cd ..\n",
        "!git clone https://github.com/ContentSide/French_Knowledge_Graph.git\n",
        "\n",
        "%cd OpenKE/\n",
        "!cp -r ../French_Knowledge_Graph/benchmarks/RezoJDM16K ./benchmarks\n",
        "\n",
        "# !cp benchmarks/FB13/n-n.py 'benchmarks/RezoJDM16K'\n",
        "# %cd 'benchmarks/RezoJDM16K'\n",
        "# !python n-n.py\n",
        "# %cd ../..\n",
        "\n",
        "# No need to run the above lines; since the SDS is ready!\n",
        "!cp -r ../French_Knowledge_Graph/trainers/*  ./"
      ],
      "execution_count": 4,
      "outputs": []
    },
    {
      "cell_type": "markdown",
      "metadata": {
        "id": "2qjzOmBR0xj1"
      },
      "source": [
        "#List of Models to run"
      ]
    },
    {
      "cell_type": "code",
      "metadata": {
        "colab": {
          "base_uri": "https://localhost:8080/"
        },
        "id": "uALQLQCpg432",
        "outputId": "dd1c5e62-e66b-470f-ce84-c2a396e3c3fd"
      },
      "source": [
        "!ls ./*.py"
      ],
      "execution_count": 5,
      "outputs": [
        {
          "output_type": "stream",
          "name": "stdout",
          "text": [
            "./train_analogy_RezoJDM-SDS.py\n",
            "./train_complex_RezoJDM-SDS.py\n",
            "./train_distmult_RezoJDM-SDS_adv.py\n",
            "./train_distmult_RezoJDM-SDS.py\n",
            "./train_hole_RezoJDM-SDS.py\n",
            "./train_rescal_RezoJDM-SDS.py\n",
            "./train_rotate_RezoJDM-SDS_adv.py\n",
            "./train_simple_RezoJDM-SDS.py\n",
            "./train_transd_RezoJDM-SDS.py\n",
            "./train_transe_RezoJDM-SDS_adv_sigmoidloss.py\n",
            "./train_transe_RezoJDM-SDS.py\n",
            "./train_transh_RezoJDM-SDS.py\n",
            "./train_transr_RezoJDM-SDS.py\n"
          ]
        }
      ]
    },
    {
      "cell_type": "markdown",
      "metadata": {
        "id": "ljM4JstI18b-"
      },
      "source": [
        "#Run model(s)"
      ]
    },
    {
      "cell_type": "code",
      "metadata": {
        "colab": {
          "base_uri": "https://localhost:8080/"
        },
        "id": "h0PQLdeph1D1",
        "outputId": "908a1eac-c3e4-4df9-8e4e-76bc2c030730"
      },
      "source": [
        "!python train_rotate_RezoJDM-SDS_adv.py"
      ],
      "execution_count": 12,
      "outputs": [
        {
          "output_type": "stream",
          "name": "stdout",
          "text": [
            "Input Files Path : ./benchmarks/RezoJDM16K/\n",
            "The toolkit is importing datasets.\n",
            "The total of relations is 53.\n",
            "The total of entities is 15746.\n",
            "The total of train triples is 665674.\n",
            "Input Files Path : ./benchmarks/RezoJDM16K/\n",
            "The total of test triples is 83209.\n",
            "The total of valid triples is 83209.\n",
            "Finish initializing...\n",
            "Epoch 49 | loss: 130.678650: 100% 50/50 [28:08<00:00, 33.76s/it]\n",
            "100% 83209/83209 [11:12<00:00, 123.78it/s]\n",
            "no type constraint results:\n",
            "metric:\t\t\t MRR \t\t MR \t\t hit@10 \t hit@3  \t hit@1 \n",
            "l(raw):\t\t\t 0.084626 \t 512.291870 \t 0.205098 \t 0.068767 \t 0.023808 \n",
            "r(raw):\t\t\t 0.093187 \t 346.728577 \t 0.257965 \t 0.072684 \t 0.024168 \n",
            "averaged(raw):\t\t 0.088906 \t 429.510223 \t 0.231531 \t 0.070726 \t 0.023988 \n",
            "\n",
            "l(filter):\t\t 0.283912 \t 221.373093 \t 0.545939 \t 0.367629 \t 0.138459 \n",
            "r(filter):\t\t 0.336171 \t 138.900848 \t 0.620041 \t 0.438931 \t 0.173695 \n",
            "averaged(filter):\t 0.310041 \t 180.136963 \t 0.582990 \t 0.403280 \t 0.156077 \n",
            "0.582990\n",
            "0.5829898118972778\n"
          ]
        }
      ]
    }
  ]
}