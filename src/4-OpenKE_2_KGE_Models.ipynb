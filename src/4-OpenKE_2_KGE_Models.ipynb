{
  "nbformat": 4,
  "nbformat_minor": 0,
  "metadata": {
    "colab": {
      "name": "OpenKE_on_Rezo_jdm.ipynb",
      "provenance": [],
      "collapsed_sections": [],
      "machine_shape": "hm"
    },
    "kernelspec": {
      "name": "python3",
      "display_name": "Python 3"
    },
    "language_info": {
      "name": "python"
    },
    "accelerator": "GPU"
  },
  "cells": [
    {
      "cell_type": "markdown",
      "metadata": {
        "id": "BiIc8ypP0tMg"
      },
      "source": [
        "#Initiation"
      ]
    },
    {
      "cell_type": "code",
      "metadata": {
        "colab": {
          "base_uri": "https://localhost:8080/"
        },
        "id": "wxAUAwxigXBV",
        "outputId": "d881fb37-a9ba-4ed2-d9ca-1f21a8f25fbc"
      },
      "source": [
        "!git clone -b OpenKE-PyTorch https://github.com/thunlp/OpenKE\n",
        "%cd OpenKE/\n",
        "!mkdir checkpoint\n",
        "!mkdir result\n",
        "%cd openke\n",
        "!bash make.sh\n",
        "%cd ..\n",
        "%cd ..\n",
        "!git clone https://github.com/ContentSide/French_Knowledge_Graph.git\n",
        "\n",
        "%cd OpenKE/\n",
        "!cp -r ../French_Knowledge_Graph/benchmarks/RezoJDM16K ./benchmarks\n",
        "\n",
        "# !cp benchmarks/FB13/n-n.py 'benchmarks/RezoJDM16K'\n",
        "# %cd 'benchmarks/RezoJDM16K'\n",
        "# !python n-n.py\n",
        "# %cd ../..\n",
        "\n",
        "# No need to run the above lines; since the SDS is ready!\n",
        "!cp -r ../French_Knowledge_Graph/trainers/*  ./"
      ],
      "execution_count": 1,
      "outputs": [
        {
          "output_type": "stream",
          "name": "stdout",
          "text": [
            "Cloning into 'OpenKE'...\n",
            "remote: Enumerating objects: 1276, done.\u001b[K\n",
            "remote: Total 1276 (delta 0), reused 0 (delta 0), pack-reused 1276\u001b[K\n",
            "Receiving objects: 100% (1276/1276), 287.90 MiB | 14.21 MiB/s, done.\n",
            "Resolving deltas: 100% (610/610), done.\n",
            "/content/OpenKE\n",
            "/content/OpenKE/openke\n",
            "/content/OpenKE\n",
            "/content\n",
            "Cloning into 'French_Knowledge_Graph'...\n",
            "remote: Enumerating objects: 214, done.\u001b[K\n",
            "remote: Counting objects: 100% (214/214), done.\u001b[K\n",
            "remote: Compressing objects: 100% (137/137), done.\u001b[K\n",
            "remote: Total 214 (delta 97), reused 181 (delta 71), pack-reused 0\u001b[K\n",
            "Receiving objects: 100% (214/214), 37.14 MiB | 11.88 MiB/s, done.\n",
            "Resolving deltas: 100% (97/97), done.\n",
            "/content/OpenKE\n"
          ]
        }
      ]
    },
    {
      "cell_type": "markdown",
      "metadata": {
        "id": "2qjzOmBR0xj1"
      },
      "source": [
        "#List of Models to run"
      ]
    },
    {
      "cell_type": "code",
      "metadata": {
        "colab": {
          "base_uri": "https://localhost:8080/"
        },
        "id": "uALQLQCpg432",
        "outputId": "2aa938d0-45ed-42e8-c1a1-dae2f3eb86a3"
      },
      "source": [
        "!ls ./*.py"
      ],
      "execution_count": 2,
      "outputs": [
        {
          "output_type": "stream",
          "name": "stdout",
          "text": [
            "./train_analogy_RezoJDM16K.py\n",
            "./train_complex_RezoJDM16K.py\n",
            "./train_distmult_RezoJDM16K_adv.py\n",
            "./train_distmult_RezoJDM16K.py\n",
            "./train_hole_RezoJDM16K.py\n",
            "./train_rescal_RezoJDM16K.py\n",
            "./train_rotate_RezoJDM16K_adv.py\n",
            "./train_simple_RezoJDM16K.py\n",
            "./train_transd_RezoJDM16K.py\n",
            "./train_transe_RezoJDM16K_adv_sigmoidloss.py\n",
            "./train_transe_RezoJDM16K.py\n",
            "./train_transh_RezoJDM16K.py\n",
            "./train_transr_RezoJDM16K.py\n"
          ]
        }
      ]
    },
    {
      "cell_type": "markdown",
      "metadata": {
        "id": "ljM4JstI18b-"
      },
      "source": [
        "#Run model(s)"
      ]
    },
    {
      "cell_type": "code",
      "metadata": {
        "colab": {
          "base_uri": "https://localhost:8080/"
        },
        "id": "h0PQLdeph1D1",
        "outputId": "908a1eac-c3e4-4df9-8e4e-76bc2c030730"
      },
      "source": [
        "!python train_rotate_RezoJDM16K_adv.py"
      ],
      "execution_count": 12,
      "outputs": [
        {
          "output_type": "stream",
          "name": "stdout",
          "text": [
            "Input Files Path : ./benchmarks/RezoJDM16K/\n",
            "The toolkit is importing datasets.\n",
            "The total of relations is 53.\n",
            "The total of entities is 15746.\n",
            "The total of train triples is 665674.\n",
            "Input Files Path : ./benchmarks/RezoJDM16K/\n",
            "The total of test triples is 83209.\n",
            "The total of valid triples is 83209.\n",
            "Finish initializing...\n",
            "Epoch 49 | loss: 130.678650: 100% 50/50 [28:08<00:00, 33.76s/it]\n",
            "100% 83209/83209 [11:12<00:00, 123.78it/s]\n",
            "no type constraint results:\n",
            "metric:\t\t\t MRR \t\t MR \t\t hit@10 \t hit@3  \t hit@1 \n",
            "l(raw):\t\t\t 0.084626 \t 512.291870 \t 0.205098 \t 0.068767 \t 0.023808 \n",
            "r(raw):\t\t\t 0.093187 \t 346.728577 \t 0.257965 \t 0.072684 \t 0.024168 \n",
            "averaged(raw):\t\t 0.088906 \t 429.510223 \t 0.231531 \t 0.070726 \t 0.023988 \n",
            "\n",
            "l(filter):\t\t 0.283912 \t 221.373093 \t 0.545939 \t 0.367629 \t 0.138459 \n",
            "r(filter):\t\t 0.336171 \t 138.900848 \t 0.620041 \t 0.438931 \t 0.173695 \n",
            "averaged(filter):\t 0.310041 \t 180.136963 \t 0.582990 \t 0.403280 \t 0.156077 \n",
            "0.582990\n",
            "0.5829898118972778\n"
          ]
        }
      ]
    },
    {
      "cell_type": "code",
      "source": [
        "!python train_distmult_RezoJDM16K.py"
      ],
      "metadata": {
        "colab": {
          "base_uri": "https://localhost:8080/"
        },
        "id": "DnXiWUL3Z2QF",
        "outputId": "7c9ed640-1536-4893-e363-da738a16d0d0"
      },
      "execution_count": 7,
      "outputs": [
        {
          "output_type": "stream",
          "name": "stdout",
          "text": [
            "Input Files Path : ./benchmarks/RezoJDM16K/\n",
            "The toolkit is importing datasets.\n",
            "The total of relations is 53.\n",
            "The total of entities is 15746.\n",
            "The total of train triples is 665674.\n",
            "Input Files Path : ./benchmarks/RezoJDM16K/\n",
            "The total of test triples is 83209.\n",
            "The total of valid triples is 83209.\n",
            "Finish initializing...\n",
            "Epoch 49 | loss: 18.448543: 100% 50/50 [03:26<00:00,  4.13s/it]\n",
            "100% 83209/83209 [01:42<00:00, 813.17it/s]\n",
            "no type constraint results:\n",
            "metric:\t\t\t MRR \t\t MR \t\t hit@10 \t hit@3  \t hit@1 \n",
            "l(raw):\t\t\t 0.092399 \t 477.894562 \t 0.226322 \t 0.085508 \t 0.027797 \n",
            "r(raw):\t\t\t 0.104757 \t 340.540192 \t 0.265668 \t 0.099532 \t 0.032557 \n",
            "averaged(raw):\t\t 0.098578 \t 409.217377 \t 0.245995 \t 0.092520 \t 0.030177 \n",
            "\n",
            "l(filter):\t\t 0.197098 \t 234.497116 \t 0.394080 \t 0.225216 \t 0.097898 \n",
            "r(filter):\t\t 0.225693 \t 175.381958 \t 0.453857 \t 0.251692 \t 0.116814 \n",
            "averaged(filter):\t 0.211396 \t 204.939545 \t 0.423969 \t 0.238454 \t 0.107356 \n",
            "0.423969\n",
            "0.4239685535430908\n"
          ]
        }
      ]
    },
    {
      "cell_type": "code",
      "source": [
        "!python train_complex_RezoJDM16K.py"
      ],
      "metadata": {
        "colab": {
          "base_uri": "https://localhost:8080/"
        },
        "id": "6t5J2DGeaGoG",
        "outputId": "a1771ba6-c92f-4c36-be05-486fbd13ba77"
      },
      "execution_count": 8,
      "outputs": [
        {
          "output_type": "stream",
          "name": "stdout",
          "text": [
            "Input Files Path : ./benchmarks/RezoJDM16K/\n",
            "The toolkit is importing datasets.\n",
            "The total of relations is 53.\n",
            "The total of entities is 15746.\n",
            "The total of train triples is 665674.\n",
            "Input Files Path : ./benchmarks/RezoJDM16K/\n",
            "The total of test triples is 83209.\n",
            "The total of valid triples is 83209.\n",
            "Finish initializing...\n",
            "Epoch 49 | loss: 10.876815: 100% 50/50 [07:21<00:00,  8.84s/it]\n",
            "100% 83209/83209 [04:09<00:00, 334.10it/s]\n",
            "no type constraint results:\n",
            "metric:\t\t\t MRR \t\t MR \t\t hit@10 \t hit@3  \t hit@1 \n",
            "l(raw):\t\t\t 0.094582 \t 507.645966 \t 0.236381 \t 0.086830 \t 0.025502 \n",
            "r(raw):\t\t\t 0.104592 \t 373.369202 \t 0.280294 \t 0.095735 \t 0.027221 \n",
            "averaged(raw):\t\t 0.099587 \t 440.507568 \t 0.258337 \t 0.091282 \t 0.026361 \n",
            "\n",
            "l(filter):\t\t 0.226440 \t 217.846222 \t 0.491690 \t 0.276557 \t 0.096216 \n",
            "r(filter):\t\t 0.273930 \t 171.716141 \t 0.564530 \t 0.323234 \t 0.136536 \n",
            "averaged(filter):\t 0.250185 \t 194.781189 \t 0.528110 \t 0.299895 \t 0.116376 \n",
            "0.528110\n",
            "0.5281099081039429\n"
          ]
        }
      ]
    },
    {
      "cell_type": "code",
      "source": [
        "!python train_transe_RezoJDM16K.py"
      ],
      "metadata": {
        "colab": {
          "base_uri": "https://localhost:8080/"
        },
        "id": "OwYDmGXicmBR",
        "outputId": "c212938e-82df-4b38-e5e4-e1e24eed0f8b"
      },
      "execution_count": 9,
      "outputs": [
        {
          "output_type": "stream",
          "name": "stdout",
          "text": [
            "Input Files Path : ./benchmarks/RezoJDM16K/\n",
            "The toolkit is importing datasets.\n",
            "The total of relations is 53.\n",
            "The total of entities is 15746.\n",
            "The total of train triples is 665674.\n",
            "Input Files Path : ./benchmarks/RezoJDM16K/\n",
            "The total of test triples is 83209.\n",
            "The total of valid triples is 83209.\n",
            "Finish initializing...\n",
            "Epoch 49 | loss: 28.807191: 100% 50/50 [03:56<00:00,  4.73s/it]\n",
            "100% 83209/83209 [02:10<00:00, 637.26it/s]\n",
            "no type constraint results:\n",
            "metric:\t\t\t MRR \t\t MR \t\t hit@10 \t hit@3  \t hit@1 \n",
            "l(raw):\t\t\t 0.088244 \t 502.776672 \t 0.230540 \t 0.083561 \t 0.020094 \n",
            "r(raw):\t\t\t 0.095730 \t 335.209839 \t 0.255153 \t 0.091493 \t 0.022870 \n",
            "averaged(raw):\t\t 0.091987 \t 418.993256 \t 0.242846 \t 0.087527 \t 0.021482 \n",
            "\n",
            "l(filter):\t\t 0.166580 \t 271.872498 \t 0.412347 \t 0.238436 \t 0.026271 \n",
            "r(filter):\t\t 0.186966 \t 173.644714 \t 0.431756 \t 0.234722 \t 0.059068 \n",
            "averaged(filter):\t 0.176773 \t 222.758606 \t 0.422052 \t 0.236579 \t 0.042670 \n",
            "0.422052\n",
            "0.42205169796943665\n"
          ]
        }
      ]
    },
    {
      "cell_type": "code",
      "source": [
        "!python train_transh_RezoJDM16K.py"
      ],
      "metadata": {
        "colab": {
          "base_uri": "https://localhost:8080/"
        },
        "id": "N01LCEh3cwAq",
        "outputId": "07108bd1-0d70-4421-e5b0-5e99436e6873"
      },
      "execution_count": 10,
      "outputs": [
        {
          "output_type": "stream",
          "name": "stdout",
          "text": [
            "Input Files Path : ./benchmarks/RezoJDM16K/\n",
            "The toolkit is importing datasets.\n",
            "The total of relations is 53.\n",
            "The total of entities is 15746.\n",
            "The total of train triples is 665674.\n",
            "Input Files Path : ./benchmarks/RezoJDM16K/\n",
            "The total of test triples is 83209.\n",
            "The total of valid triples is 83209.\n",
            "Finish initializing...\n",
            "Epoch 49 | loss: 14.396724: 100% 50/50 [06:59<00:00,  8.39s/it]\n",
            "100% 83209/83209 [03:08<00:00, 441.79it/s]\n",
            "no type constraint results:\n",
            "metric:\t\t\t MRR \t\t MR \t\t hit@10 \t hit@3  \t hit@1 \n",
            "l(raw):\t\t\t 0.091301 \t 485.071564 \t 0.239433 \t 0.086709 \t 0.020274 \n",
            "r(raw):\t\t\t 0.097645 \t 324.016968 \t 0.268457 \t 0.090904 \t 0.021368 \n",
            "averaged(raw):\t\t 0.094473 \t 404.544250 \t 0.253945 \t 0.088806 \t 0.020821 \n",
            "\n",
            "l(filter):\t\t 0.199608 \t 249.076569 \t 0.459313 \t 0.274730 \t 0.054621 \n",
            "r(filter):\t\t 0.219655 \t 157.634048 \t 0.488132 \t 0.287253 \t 0.073886 \n",
            "averaged(filter):\t 0.209631 \t 203.355316 \t 0.473723 \t 0.280991 \t 0.064254 \n",
            "0.473723\n",
            "0.47372281551361084\n"
          ]
        }
      ]
    },
    {
      "cell_type": "code",
      "source": [
        "!python train_transd_RezoJDM16K.py"
      ],
      "metadata": {
        "colab": {
          "base_uri": "https://localhost:8080/"
        },
        "id": "PCsXuOsOcweq",
        "outputId": "fd44661a-2728-4fed-9c3f-989b047bb7c2"
      },
      "execution_count": 12,
      "outputs": [
        {
          "output_type": "stream",
          "name": "stdout",
          "text": [
            "Input Files Path : ./benchmarks/RezoJDM16K/\n",
            "The toolkit is importing datasets.\n",
            "The total of relations is 53.\n",
            "The total of entities is 15746.\n",
            "The total of train triples is 665674.\n",
            "Input Files Path : ./benchmarks/RezoJDM16K/\n",
            "The total of test triples is 83209.\n",
            "The total of valid triples is 83209.\n",
            "Finish initializing...\n",
            "Epoch 49 | loss: 13.490716: 100% 50/50 [07:07<00:00,  8.56s/it]\n",
            "100% 83209/83209 [03:46<00:00, 368.14it/s]\n",
            "no type constraint results:\n",
            "metric:\t\t\t MRR \t\t MR \t\t hit@10 \t hit@3  \t hit@1 \n",
            "l(raw):\t\t\t 0.090255 \t 471.102997 \t 0.238628 \t 0.084618 \t 0.019253 \n",
            "r(raw):\t\t\t 0.097176 \t 315.915375 \t 0.268264 \t 0.089582 \t 0.020334 \n",
            "averaged(raw):\t\t 0.093715 \t 393.509186 \t 0.253446 \t 0.087100 \t 0.019794 \n",
            "\n",
            "l(filter):\t\t 0.183594 \t 232.288574 \t 0.455624 \t 0.264286 \t 0.031030 \n",
            "r(filter):\t\t 0.204008 \t 148.568390 \t 0.485128 \t 0.271365 \t 0.054357 \n",
            "averaged(filter):\t 0.193801 \t 190.428482 \t 0.470376 \t 0.267826 \t 0.042694 \n",
            "0.470376\n",
            "0.47037580609321594\n"
          ]
        }
      ]
    }
  ]
}