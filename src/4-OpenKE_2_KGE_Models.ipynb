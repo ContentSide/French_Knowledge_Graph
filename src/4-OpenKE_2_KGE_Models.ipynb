{
  "nbformat": 4,
  "nbformat_minor": 0,
  "metadata": {
    "colab": {
      "name": "OpenKE_on_Rezo_jdm.ipynb",
      "provenance": [],
      "collapsed_sections": [],
      "machine_shape": "hm"
    },
    "kernelspec": {
      "name": "python3",
      "display_name": "Python 3"
    },
    "language_info": {
      "name": "python"
    },
    "accelerator": "GPU"
  },
  "cells": [
    {
      "cell_type": "markdown",
      "metadata": {
        "id": "BiIc8ypP0tMg"
      },
      "source": [
        "#Initiation"
      ]
    },
    {
      "cell_type": "code",
      "metadata": {
        "colab": {
          "base_uri": "https://localhost:8080/"
        },
        "id": "wxAUAwxigXBV",
        "outputId": "e661510e-333a-4fd5-9b79-ce8335879ccc"
      },
      "source": [
        "!git clone -b OpenKE-PyTorch https://github.com/thunlp/OpenKE\n",
        "%cd OpenKE/\n",
        "!mkdir checkpoint\n",
        "!mkdir result\n",
        "%cd openke\n",
        "!bash make.sh\n",
        "%cd ..\n",
        "%cd ..\n",
        "!git clone https://github.com/ContentSide/RezoJDM-SDS.git\n",
        "%cd OpenKE/\n",
        "!cp -r ../RezoJDM-SDS/benchmarks/RezoJDM-SDS  ./benchmarks\n",
        "\n",
        "# !cp benchmarks/FB13/n-n.py 'benchmarks/RezoJDM-SDS'\n",
        "# %cd 'benchmarks/RezoJDM-SDS'\n",
        "# !python n-n.py\n",
        "# %cd ../..\n",
        "\n",
        "# No need to run the above lines; since the SDS is ready!\n",
        "!cp -r ../RezoJDM-SDS/trainers/*  ./"
      ],
      "execution_count": 1,
      "outputs": [
        {
          "output_type": "stream",
          "name": "stdout",
          "text": [
            "Cloning into 'OpenKE'...\n",
            "remote: Enumerating objects: 1276, done.\u001b[K\n",
            "remote: Total 1276 (delta 0), reused 0 (delta 0), pack-reused 1276\u001b[K\n",
            "Receiving objects: 100% (1276/1276), 287.90 MiB | 22.20 MiB/s, done.\n",
            "Resolving deltas: 100% (610/610), done.\n",
            "/content/OpenKE\n",
            "/content/OpenKE/openke\n",
            "/content/OpenKE\n",
            "/content\n",
            "Cloning into 'RezoJDM-SDS'...\n",
            "remote: Enumerating objects: 118, done.\u001b[K\n",
            "remote: Counting objects: 100% (118/118), done.\u001b[K\n",
            "remote: Compressing objects: 100% (72/72), done.\u001b[K\n",
            "remote: Total 118 (delta 52), reused 109 (delta 43), pack-reused 0\u001b[K\n",
            "Receiving objects: 100% (118/118), 26.91 MiB | 22.37 MiB/s, done.\n",
            "Resolving deltas: 100% (52/52), done.\n",
            "/content/OpenKE\n"
          ]
        }
      ]
    },
    {
      "cell_type": "markdown",
      "metadata": {
        "id": "2qjzOmBR0xj1"
      },
      "source": [
        "#List of Models to run"
      ]
    },
    {
      "cell_type": "code",
      "metadata": {
        "colab": {
          "base_uri": "https://localhost:8080/"
        },
        "id": "uALQLQCpg432",
        "outputId": "369b29a4-8834-487f-fcc2-db1b553acea8"
      },
      "source": [
        "!ls ./*.py"
      ],
      "execution_count": 2,
      "outputs": [
        {
          "output_type": "stream",
          "name": "stdout",
          "text": [
            "./train_analogy_RezoJDM-SDS.py\n",
            "./train_complex_RezoJDM-SDS.py\n",
            "./train_distmult_RezoJDM-SDS_adv.py\n",
            "./train_distmult_RezoJDM-SDS.py\n",
            "./train_hole_RezoJDM-SDS.py\n",
            "./train_rescal_RezoJDM-SDS.py\n",
            "./train_rotate_RezoJDM-SDS_adv.py\n",
            "./train_simple_RezoJDM-SDS.py\n",
            "./train_transd_RezoJDM-SDS.py\n",
            "./train_transe_RezoJDM-SDS_adv_sigmoidloss.py\n",
            "./train_transe_RezoJDM-SDS.py\n",
            "./train_transh_RezoJDM-SDS.py\n",
            "./train_transr_RezoJDM-SDS.py\n"
          ]
        }
      ]
    },
    {
      "cell_type": "markdown",
      "metadata": {
        "id": "ljM4JstI18b-"
      },
      "source": [
        "#Run model(s)"
      ]
    },
    {
      "cell_type": "code",
      "metadata": {
        "colab": {
          "base_uri": "https://localhost:8080/"
        },
        "id": "h0PQLdeph1D1",
        "outputId": "9154cbf0-1c98-4389-aa00-db996f26cb57"
      },
      "source": [
        "!python train_rotate_RezoJDM-SDS_adv.py"
      ],
      "execution_count": 3,
      "outputs": [
        {
          "output_type": "stream",
          "name": "stdout",
          "text": [
            "Input Files Path : ./benchmarks/RezoJDM-SDS/\n",
            "The toolkit is importing datasets.\n",
            "The total of relations is 54.\n",
            "The total of entities is 15525.\n",
            "The total of train triples is 702468.\n",
            "Input Files Path : ./benchmarks/RezoJDM-SDS/\n",
            "The total of test triples is 88179.\n",
            "The total of valid triples is 88304.\n",
            "Finish initializing...\n",
            "Epoch 49 | loss: 138.354182: 100% 50/50 [29:25<00:00, 35.31s/it]\n",
            "100% 88179/88179 [11:12<00:00, 131.13it/s]\n",
            "no type constraint results:\n",
            "metric:\t\t\t MRR \t\t MR \t\t hit@10 \t hit@3  \t hit@1 \n",
            "l(raw):\t\t\t 0.088705 \t 530.524475 \t 0.214756 \t 0.076628 \t 0.025426 \n",
            "r(raw):\t\t\t 0.097416 \t 323.883179 \t 0.259291 \t 0.079531 \t 0.025777 \n",
            "averaged(raw):\t\t 0.093060 \t 427.203827 \t 0.237024 \t 0.078080 \t 0.025601 \n",
            "\n",
            "l(filter):\t\t 0.305860 \t 200.792816 \t 0.582996 \t 0.399642 \t 0.151329 \n",
            "r(filter):\t\t 0.355626 \t 127.055695 \t 0.641819 \t 0.461255 \t 0.191259 \n",
            "averaged(filter):\t 0.330743 \t 163.924255 \t 0.612408 \t 0.430448 \t 0.171294 \n",
            "0.612408\n",
            "0.6124076843261719\n"
          ]
        }
      ]
    }
  ]
}