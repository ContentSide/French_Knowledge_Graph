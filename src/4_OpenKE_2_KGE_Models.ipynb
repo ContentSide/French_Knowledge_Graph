{
  "nbformat": 4,
  "nbformat_minor": 0,
  "metadata": {
    "colab": {
      "name": "4-OpenKE_2_KGE_Models.ipynb",
      "provenance": [],
      "collapsed_sections": [],
      "machine_shape": "hm"
    },
    "kernelspec": {
      "name": "python3",
      "display_name": "Python 3"
    },
    "language_info": {
      "name": "python"
    },
    "accelerator": "GPU"
  },
  "cells": [
    {
      "cell_type": "markdown",
      "metadata": {
        "id": "BiIc8ypP0tMg"
      },
      "source": [
        "#Initiation"
      ]
    },
    {
      "cell_type": "code",
      "metadata": {
        "colab": {
          "base_uri": "https://localhost:8080/"
        },
        "id": "wxAUAwxigXBV",
        "outputId": "bb78e51c-c947-4d21-ac6d-c1113a8c923c"
      },
      "source": [
        "!git clone -b OpenKE-PyTorch https://github.com/thunlp/OpenKE\n",
        "%cd OpenKE/\n",
        "!mkdir checkpoint\n",
        "!mkdir result\n",
        "%cd openke\n",
        "!bash make.sh\n",
        "%cd ..\n",
        "%cd ..\n",
        "!git clone https://github.com/ContentSide/French_Knowledge_Graph.git\n",
        "\n",
        "%cd OpenKE/\n",
        "!cp -r ../French_Knowledge_Graph/benchmarks/RezoJDM16K ./benchmarks\n",
        "\n",
        "# !cp benchmarks/FB13/n-n.py 'benchmarks/RezoJDM16K'\n",
        "# %cd 'benchmarks/RezoJDM16K'\n",
        "# !python n-n.py\n",
        "# %cd ../..\n",
        "\n",
        "# No need to run the above lines; since the SDS is ready!\n",
        "!cp -r ../French_Knowledge_Graph/trainers/*  ./"
      ],
      "execution_count": 1,
      "outputs": [
        {
          "output_type": "stream",
          "name": "stdout",
          "text": [
            "Cloning into 'OpenKE'...\n",
            "remote: Enumerating objects: 1276, done.\u001b[K\n",
            "remote: Total 1276 (delta 0), reused 0 (delta 0), pack-reused 1276\u001b[K\n",
            "Receiving objects: 100% (1276/1276), 287.90 MiB | 13.81 MiB/s, done.\n",
            "Resolving deltas: 100% (610/610), done.\n",
            "/content/OpenKE\n",
            "/content/OpenKE/openke\n",
            "/content/OpenKE\n",
            "/content\n",
            "Cloning into 'French_Knowledge_Graph'...\n",
            "remote: Enumerating objects: 241, done.\u001b[K\n",
            "remote: Counting objects: 100% (241/241), done.\u001b[K\n",
            "remote: Compressing objects: 100% (158/158), done.\u001b[K\n",
            "remote: Total 241 (delta 115), reused 191 (delta 77), pack-reused 0\u001b[K\n",
            "Receiving objects: 100% (241/241), 37.15 MiB | 13.94 MiB/s, done.\n",
            "Resolving deltas: 100% (115/115), done.\n",
            "/content/OpenKE\n"
          ]
        }
      ]
    },
    {
      "cell_type": "markdown",
      "metadata": {
        "id": "2qjzOmBR0xj1"
      },
      "source": [
        "#List of Models to run"
      ]
    },
    {
      "cell_type": "code",
      "metadata": {
        "colab": {
          "base_uri": "https://localhost:8080/"
        },
        "id": "uALQLQCpg432",
        "outputId": "786a5881-ace4-4067-ba5f-5bbbabf61b35"
      },
      "source": [
        "!ls ./*.py"
      ],
      "execution_count": 3,
      "outputs": [
        {
          "output_type": "stream",
          "name": "stdout",
          "text": [
            "./train_analogy_RezoJDM16K.py\n",
            "./train_complex_RezoJDM16K.py\n",
            "./train_distmult_RezoJDM16K_adv.py\n",
            "./train_distmult_RezoJDM16K.py\n",
            "./train_hole_RezoJDM16K.py\n",
            "./train_rescal_RezoJDM16K.py\n",
            "./train_rotate_RezoJDM16K_adv.py\n",
            "./train_simple_RezoJDM16K.py\n",
            "./train_transd_RezoJDM16K.py\n",
            "./train_transe_RezoJDM16K_adv_sigmoidloss.py\n",
            "./train_transe_RezoJDM16K.py\n",
            "./train_transh_RezoJDM16K.py\n",
            "./train_transr_RezoJDM16K.py\n"
          ]
        }
      ]
    },
    {
      "cell_type": "markdown",
      "metadata": {
        "id": "ljM4JstI18b-"
      },
      "source": [
        "#Run model(s)"
      ]
    },
    {
      "cell_type": "code",
      "metadata": {
        "colab": {
          "base_uri": "https://localhost:8080/"
        },
        "id": "h0PQLdeph1D1",
        "outputId": "908a1eac-c3e4-4df9-8e4e-76bc2c030730"
      },
      "source": [
        "!python train_rotate_RezoJDM16K_adv.py"
      ],
      "execution_count": null,
      "outputs": [
        {
          "output_type": "stream",
          "name": "stdout",
          "text": [
            "Input Files Path : ./benchmarks/RezoJDM16K/\n",
            "The toolkit is importing datasets.\n",
            "The total of relations is 53.\n",
            "The total of entities is 15746.\n",
            "The total of train triples is 665674.\n",
            "Input Files Path : ./benchmarks/RezoJDM16K/\n",
            "The total of test triples is 83209.\n",
            "The total of valid triples is 83209.\n",
            "Finish initializing...\n",
            "Epoch 49 | loss: 130.678650: 100% 50/50 [28:08<00:00, 33.76s/it]\n",
            "100% 83209/83209 [11:12<00:00, 123.78it/s]\n",
            "no type constraint results:\n",
            "metric:\t\t\t MRR \t\t MR \t\t hit@10 \t hit@3  \t hit@1 \n",
            "l(raw):\t\t\t 0.084626 \t 512.291870 \t 0.205098 \t 0.068767 \t 0.023808 \n",
            "r(raw):\t\t\t 0.093187 \t 346.728577 \t 0.257965 \t 0.072684 \t 0.024168 \n",
            "averaged(raw):\t\t 0.088906 \t 429.510223 \t 0.231531 \t 0.070726 \t 0.023988 \n",
            "\n",
            "l(filter):\t\t 0.283912 \t 221.373093 \t 0.545939 \t 0.367629 \t 0.138459 \n",
            "r(filter):\t\t 0.336171 \t 138.900848 \t 0.620041 \t 0.438931 \t 0.173695 \n",
            "averaged(filter):\t 0.310041 \t 180.136963 \t 0.582990 \t 0.403280 \t 0.156077 \n",
            "0.582990\n",
            "0.5829898118972778\n"
          ]
        }
      ]
    },
    {
      "cell_type": "code",
      "source": [
        "!python train_distmult_RezoJDM16K.py"
      ],
      "metadata": {
        "colab": {
          "base_uri": "https://localhost:8080/"
        },
        "id": "DnXiWUL3Z2QF",
        "outputId": "40081a01-5329-4144-f1f2-0ce5bb31e085"
      },
      "execution_count": 4,
      "outputs": [
        {
          "output_type": "stream",
          "name": "stdout",
          "text": [
            "Input Files Path : ./benchmarks/RezoJDM16K/\n",
            "The toolkit is importing datasets.\n",
            "The total of relations is 53.\n",
            "The total of entities is 15746.\n",
            "The total of train triples is 665674.\n",
            "Input Files Path : ./benchmarks/RezoJDM16K/\n",
            "The total of test triples is 83209.\n",
            "The total of valid triples is 83209.\n",
            "Finish initializing...\n",
            "Epoch 199 | loss: 18.125159: 100% 200/200 [13:33<00:00,  4.07s/it]\n",
            "100% 83209/83209 [01:39<00:00, 834.29it/s]\n",
            "no type constraint results:\n",
            "metric:\t\t\t MRR \t\t MR \t\t hit@10 \t hit@3  \t hit@1 \n",
            "l(raw):\t\t\t 0.094426 \t 470.379700 \t 0.229663 \t 0.087430 \t 0.028663 \n",
            "r(raw):\t\t\t 0.105393 \t 338.295410 \t 0.272711 \t 0.100626 \t 0.030405 \n",
            "averaged(raw):\t\t 0.099910 \t 404.337555 \t 0.251187 \t 0.094028 \t 0.029534 \n",
            "\n",
            "l(filter):\t\t 0.205169 \t 218.802322 \t 0.417214 \t 0.235479 \t 0.100350 \n",
            "r(filter):\t\t 0.234647 \t 170.139084 \t 0.473819 \t 0.268853 \t 0.118821 \n",
            "averaged(filter):\t 0.219908 \t 194.470703 \t 0.445517 \t 0.252166 \t 0.109586 \n",
            "0.445517\n",
            "0.4455167055130005\n"
          ]
        }
      ]
    },
    {
      "cell_type": "code",
      "source": [
        "!python train_complex_RezoJDM16K.py"
      ],
      "metadata": {
        "colab": {
          "base_uri": "https://localhost:8080/"
        },
        "id": "6t5J2DGeaGoG",
        "outputId": "e6789585-aa38-4094-c367-21aa71abf0cc"
      },
      "execution_count": 5,
      "outputs": [
        {
          "output_type": "stream",
          "name": "stdout",
          "text": [
            "Input Files Path : ./benchmarks/RezoJDM16K/\n",
            "The toolkit is importing datasets.\n",
            "The total of relations is 53.\n",
            "The total of entities is 15746.\n",
            "The total of train triples is 665674.\n",
            "Input Files Path : ./benchmarks/RezoJDM16K/\n",
            "The total of test triples is 83209.\n",
            "The total of valid triples is 83209.\n",
            "Finish initializing...\n",
            "Epoch 199 | loss: 10.428141: 100% 200/200 [29:14<00:00,  8.77s/it]\n",
            "100% 83209/83209 [04:07<00:00, 335.86it/s]\n",
            "no type constraint results:\n",
            "metric:\t\t\t MRR \t\t MR \t\t hit@10 \t hit@3  \t hit@1 \n",
            "l(raw):\t\t\t 0.094618 \t 540.212891 \t 0.237883 \t 0.086072 \t 0.025274 \n",
            "r(raw):\t\t\t 0.100062 \t 382.444824 \t 0.268144 \t 0.087659 \t 0.024697 \n",
            "averaged(raw):\t\t 0.097340 \t 461.328857 \t 0.253013 \t 0.086866 \t 0.024985 \n",
            "\n",
            "l(filter):\t\t 0.234480 \t 225.321564 \t 0.498936 \t 0.284116 \t 0.104700 \n",
            "r(filter):\t\t 0.270847 \t 177.855423 \t 0.567355 \t 0.323378 \t 0.129145 \n",
            "averaged(filter):\t 0.252663 \t 201.588501 \t 0.533145 \t 0.303747 \t 0.116922 \n",
            "0.533145\n",
            "0.5331454277038574\n"
          ]
        }
      ]
    },
    {
      "cell_type": "code",
      "source": [
        "!python train_transe_RezoJDM16K.py"
      ],
      "metadata": {
        "colab": {
          "base_uri": "https://localhost:8080/"
        },
        "id": "OwYDmGXicmBR",
        "outputId": "620c99a0-77ab-4f54-8ecf-aa097e45e934"
      },
      "execution_count": 6,
      "outputs": [
        {
          "output_type": "stream",
          "name": "stdout",
          "text": [
            "Input Files Path : ./benchmarks/RezoJDM16K/\n",
            "The toolkit is importing datasets.\n",
            "The total of relations is 53.\n",
            "The total of entities is 15746.\n",
            "The total of train triples is 665674.\n",
            "Input Files Path : ./benchmarks/RezoJDM16K/\n",
            "The total of test triples is 83209.\n",
            "The total of valid triples is 83209.\n",
            "Finish initializing...\n",
            "Epoch 299 | loss: 25.764486: 100% 300/300 [23:28<00:00,  4.70s/it]\n",
            "100% 83209/83209 [02:08<00:00, 646.56it/s]\n",
            "no type constraint results:\n",
            "metric:\t\t\t MRR \t\t MR \t\t hit@10 \t hit@3  \t hit@1 \n",
            "l(raw):\t\t\t 0.088744 \t 483.481262 \t 0.232210 \t 0.084618 \t 0.019541 \n",
            "r(raw):\t\t\t 0.096345 \t 321.261292 \t 0.258386 \t 0.090447 \t 0.022798 \n",
            "averaged(raw):\t\t 0.092544 \t 402.371277 \t 0.245298 \t 0.087533 \t 0.021170 \n",
            "\n",
            "l(filter):\t\t 0.168651 \t 249.159134 \t 0.420748 \t 0.244180 \t 0.024360 \n",
            "r(filter):\t\t 0.189838 \t 157.479263 \t 0.443402 \t 0.240407 \t 0.057626 \n",
            "averaged(filter):\t 0.179244 \t 203.319199 \t 0.432075 \t 0.242294 \t 0.040993 \n",
            "0.432075\n",
            "0.4320746660232544\n"
          ]
        }
      ]
    },
    {
      "cell_type": "code",
      "source": [
        "!python train_transh_RezoJDM16K.py"
      ],
      "metadata": {
        "colab": {
          "base_uri": "https://localhost:8080/"
        },
        "id": "N01LCEh3cwAq",
        "outputId": "ca3fa448-26f9-4651-c4cc-4829308a2a2d"
      },
      "execution_count": 7,
      "outputs": [
        {
          "output_type": "stream",
          "name": "stdout",
          "text": [
            "Input Files Path : ./benchmarks/RezoJDM16K/\n",
            "The toolkit is importing datasets.\n",
            "The total of relations is 53.\n",
            "The total of entities is 15746.\n",
            "The total of train triples is 665674.\n",
            "Input Files Path : ./benchmarks/RezoJDM16K/\n",
            "The total of test triples is 83209.\n",
            "The total of valid triples is 83209.\n",
            "Finish initializing...\n",
            "Epoch 199 | loss: 11.479681: 100% 200/200 [27:46<00:00,  8.33s/it]\n",
            "100% 83209/83209 [03:41<00:00, 375.64it/s]\n",
            "no type constraint results:\n",
            "metric:\t\t\t MRR \t\t MR \t\t hit@10 \t hit@3  \t hit@1 \n",
            "l(raw):\t\t\t 0.091578 \t 456.611481 \t 0.242053 \t 0.085520 \t 0.019902 \n",
            "r(raw):\t\t\t 0.098999 \t 309.116974 \t 0.273216 \t 0.091120 \t 0.021404 \n",
            "averaged(raw):\t\t 0.095289 \t 382.864227 \t 0.257634 \t 0.088320 \t 0.020653 \n",
            "\n",
            "l(filter):\t\t 0.204434 \t 214.860031 \t 0.478734 \t 0.276809 \t 0.057133 \n",
            "r(filter):\t\t 0.232424 \t 139.383255 \t 0.517312 \t 0.304943 \t 0.080580 \n",
            "averaged(filter):\t 0.218429 \t 177.121643 \t 0.498023 \t 0.290876 \t 0.068857 \n",
            "0.498023\n",
            "0.49802303314208984\n"
          ]
        }
      ]
    },
    {
      "cell_type": "code",
      "source": [
        "!python train_transd_RezoJDM16K.py"
      ],
      "metadata": {
        "colab": {
          "base_uri": "https://localhost:8080/"
        },
        "id": "PCsXuOsOcweq",
        "outputId": "1476bbd0-819a-4ea1-ec0e-465bec8eba9f"
      },
      "execution_count": 8,
      "outputs": [
        {
          "output_type": "stream",
          "name": "stdout",
          "text": [
            "Input Files Path : ./benchmarks/RezoJDM16K/\n",
            "The toolkit is importing datasets.\n",
            "The total of relations is 53.\n",
            "The total of entities is 15746.\n",
            "The total of train triples is 665674.\n",
            "Input Files Path : ./benchmarks/RezoJDM16K/\n",
            "The total of test triples is 83209.\n",
            "The total of valid triples is 83209.\n",
            "Finish initializing...\n",
            "Epoch 199 | loss: 11.017960: 100% 200/200 [28:16<00:00,  8.48s/it]\n",
            "100% 83209/83209 [04:06<00:00, 337.78it/s]\n",
            "no type constraint results:\n",
            "metric:\t\t\t MRR \t\t MR \t\t hit@10 \t hit@3  \t hit@1 \n",
            "l(raw):\t\t\t 0.091159 \t 449.447723 \t 0.240299 \t 0.085556 \t 0.019289 \n",
            "r(raw):\t\t\t 0.098465 \t 305.620087 \t 0.273552 \t 0.089762 \t 0.020527 \n",
            "averaged(raw):\t\t 0.094812 \t 377.533905 \t 0.256925 \t 0.087659 \t 0.019908 \n",
            "\n",
            "l(filter):\t\t 0.201107 \t 206.268478 \t 0.476811 \t 0.269863 \t 0.054489 \n",
            "r(filter):\t\t 0.231621 \t 135.085617 \t 0.522960 \t 0.304222 \t 0.077852 \n",
            "averaged(filter):\t 0.216364 \t 170.677048 \t 0.499886 \t 0.287042 \t 0.066171 \n",
            "0.499886\n",
            "0.49988582730293274\n"
          ]
        }
      ]
    }
  ]
}