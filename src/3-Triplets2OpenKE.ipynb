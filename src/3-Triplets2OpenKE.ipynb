{
  "cells": [
    {
      "cell_type": "code",
      "execution_count": 1,
      "metadata": {
        "colab": {
          "base_uri": "https://localhost:8080/"
        },
        "id": "NxhtizUwUMLD",
        "outputId": "1c1c034d-b07c-43ae-eaad-7ed61c08f6ce"
      },
      "outputs": [
        {
          "name": "stdout",
          "output_type": "stream",
          "text": [
            "Cloning into 'RezoJDM-SDS'...\n",
            "remote: Enumerating objects: 157, done.\u001b[K\n",
            "remote: Counting objects: 100% (157/157), done.\u001b[K\n",
            "remote: Compressing objects: 100% (103/103), done.\u001b[K\n",
            "remote: Total 157 (delta 68), reused 132 (delta 50), pack-reused 0\u001b[K\n",
            "Receiving objects: 100% (157/157), 32.68 MiB | 19.05 MiB/s, done.\n",
            "Resolving deltas: 100% (68/68), done.\n"
          ]
        }
      ],
      "source": [
        "import sys\n",
        "import os\n",
        "import pandas as pd\n",
        "import warnings\n",
        "import re\n",
        "import datetime\n",
        "\n",
        "!mkdir 'RezoJDM16K-OpenKE'\n",
        "!git clone https://github.com/ContentSide/RezoJDM16K.git"
      ]
    },
    {
      "cell_type": "code",
      "execution_count": 18,
      "metadata": {
        "id": "ehnoIncwJkvx"
      },
      "outputs": [],
      "source": [
        "triplets_train = pd.read_csv(\"/content/RezoJDM16K/datasets/Triplets/triplets_train.csv\", index_col=False)\n",
        "triplets_dev = pd.read_csv(\"/content/RezoJDM16K/datasets/Triplets/triplets_dev.csv\", index_col=False)\n",
        "triplets_test = pd.read_csv(\"/content/RezoJDM16K/datasets/Triplets/triplets_test.csv\", index_col=False)\n",
        "\n",
        "relation_names = pd.read_csv(\"/content/RezoJDM16K/datasets/Triplets/relations_ids_names.csv\", index_col=False)\n",
        "nodes_all = pd.read_csv(\"/content/RezoJDM16K/datasets/Filtered_Nodes_Edges/nodes.csv\", index_col=False)"
      ]
    },
    {
      "cell_type": "code",
      "execution_count": 14,
      "metadata": {
        "id": "CMcGlIZVLIFm"
      },
      "outputs": [],
      "source": [
        "nodes_in_train = set(triplets_train[\"n1\"]).union(set(triplets_train[\"n2\"]))\n",
        "nodes_in_dev = set(triplets_dev[\"n1\"]).union(set(triplets_dev[\"n2\"]))\n",
        "nodes_in_test = set(triplets_test[\"n1\"]).union(set(triplets_test[\"n2\"]))\n",
        "\n",
        "nodes = nodes_in_train.intersection(nodes_in_dev)\n",
        "nodes = nodes.intersection(nodes_in_test)\n",
        "nodes = list(nodes)\n",
        "\n",
        "def remove_delta_nodes(triplets, nodes):\n",
        "    return triplets[triplets[\"n1\"].isin(nodes) & triplets[\"n2\"].isin(nodes)].reset_index()\n",
        "\n",
        "triplets_train = remove_delta_nodes(triplets_train, nodes)\n",
        "triplets_dev = remove_delta_nodes(triplets_dev, nodes)\n",
        "triplets_test = remove_delta_nodes(triplets_test, nodes)"
      ]
    },
    {
      "cell_type": "code",
      "execution_count": 25,
      "metadata": {
        "colab": {
          "base_uri": "https://localhost:8080/"
        },
        "id": "fU_-9NawIHik",
        "outputId": "f7f2ba62-d06c-4bfd-c39c-a42d040c00ea"
      },
      "outputs": [
        {
          "data": {
            "text/plain": [
              "15746"
            ]
          },
          "execution_count": 25,
          "metadata": {},
          "output_type": "execute_result"
        }
      ],
      "source": [
        "nodes_in_train = set(triplets_train[\"n1\"]).union(set(triplets_train[\"n2\"]))\n",
        "nodes_in_dev = set(triplets_dev[\"n1\"]).union(set(triplets_dev[\"n2\"]))\n",
        "nodes_in_test = set(triplets_test[\"n1\"]).union(set(triplets_test[\"n2\"]))\n",
        "\n",
        "nodes = nodes_in_train.union(nodes_in_dev)\n",
        "nodes = nodes.union(nodes_in_test)\n",
        "nodes = list(nodes)\n",
        "len(nodes)"
      ]
    },
    {
      "cell_type": "code",
      "execution_count": 23,
      "metadata": {
        "colab": {
          "base_uri": "https://localhost:8080/"
        },
        "id": "d8w1w2uZNCuH",
        "outputId": "82bec237-ce92-41e7-a9f0-6a0df6ae9a58"
      },
      "outputs": [
        {
          "data": {
            "text/plain": [
              "(15746, 15615, 15623)"
            ]
          },
          "execution_count": 23,
          "metadata": {},
          "output_type": "execute_result"
        }
      ],
      "source": [
        "nodes_in_train = set(triplets_train[\"n1\"]).union(set(triplets_train[\"n2\"]))\n",
        "nodes_in_dev = set(triplets_dev[\"n1\"]).union(set(triplets_dev[\"n2\"]))\n",
        "nodes_in_test = set(triplets_test[\"n1\"]).union(set(triplets_test[\"n2\"]))\n",
        "\n",
        "len(nodes_in_train), len(nodes_in_dev), len(nodes_in_test)"
      ]
    },
    {
      "cell_type": "code",
      "execution_count": 26,
      "metadata": {
        "colab": {
          "base_uri": "https://localhost:8080/"
        },
        "id": "zpklrEadIN9E",
        "outputId": "f3d1c7f7-0587-4b0a-d0ed-bd3d95570908"
      },
      "outputs": [
        {
          "data": {
            "text/plain": [
              "(15746, 73106)"
            ]
          },
          "execution_count": 26,
          "metadata": {},
          "output_type": "execute_result"
        }
      ],
      "source": [
        "nodes_name = nodes_all[nodes_all[\"eid\"].isin(nodes)].reset_index()[[\"eid\", \"n\"]]\n",
        "len(nodes_name), nodes_all.shape[0]"
      ]
    },
    {
      "cell_type": "code",
      "execution_count": 27,
      "metadata": {
        "colab": {
          "base_uri": "https://localhost:8080/"
        },
        "id": "REcf_9TNJuc1",
        "outputId": "dec012aa-50e4-4e5b-8518-1f1a403f7bf8"
      },
      "outputs": [
        {
          "data": {
            "text/plain": [
              "15746"
            ]
          },
          "execution_count": 27,
          "metadata": {},
          "output_type": "execute_result"
        }
      ],
      "source": [
        "nodes_name = nodes_name.rename_axis('new_eid').reset_index()\n",
        "jdm2oke_node_mapping = {}\n",
        "for _ , row in nodes_name.iterrows():\n",
        "    jdm2oke_node_mapping[row.eid] = row.new_eid\n",
        "len(jdm2oke_node_mapping)"
      ]
    },
    {
      "cell_type": "code",
      "execution_count": 28,
      "metadata": {
        "colab": {
          "base_uri": "https://localhost:8080/"
        },
        "id": "jAA5wE1_NU8H",
        "outputId": "78acffd3-0990-4ff3-94a3-2fc53dc97980"
      },
      "outputs": [
        {
          "data": {
            "text/plain": [
              "(53, 53, 53)"
            ]
          },
          "execution_count": 28,
          "metadata": {},
          "output_type": "execute_result"
        }
      ],
      "source": [
        "len(triplets_train[\"t\"].unique()), len(triplets_dev[\"t\"].unique()), len(triplets_test[\"t\"].unique())"
      ]
    },
    {
      "cell_type": "code",
      "execution_count": 30,
      "metadata": {
        "colab": {
          "base_uri": "https://localhost:8080/"
        },
        "id": "8Szeth11NXnB",
        "outputId": "613462ff-36c2-4620-bb83-eed9cfccb664"
      },
      "outputs": [
        {
          "data": {
            "text/plain": [
              "(665675, 83209, 83209)"
            ]
          },
          "execution_count": 30,
          "metadata": {},
          "output_type": "execute_result"
        }
      ],
      "source": [
        "triplets_train.shape[0], triplets_dev.shape[0], triplets_test.shape[0]"
      ]
    },
    {
      "cell_type": "code",
      "execution_count": 33,
      "metadata": {
        "colab": {
          "base_uri": "https://localhost:8080/"
        },
        "id": "kIjo04FYMCvX",
        "outputId": "7b12c088-334d-4aef-b84a-c9f8a03f3dd9"
      },
      "outputs": [
        {
          "data": {
            "text/plain": [
              "53"
            ]
          },
          "execution_count": 33,
          "metadata": {},
          "output_type": "execute_result"
        }
      ],
      "source": [
        "relation_names = relation_names[relation_names[\"relation_id\"].isin(triplets_train[\"t\"].unique())].reset_index()[[\"relation\",\"relation_id\"]]\n",
        "relation_names = relation_names.rename_axis('new_relation_id').reset_index()\n",
        "jdm2oke_relation_mapping = {}\n",
        "for _ , row in relation_names.iterrows():\n",
        "    jdm2oke_relation_mapping[row.relation_id] = row.new_relation_id\n",
        "len(jdm2oke_relation_mapping)"
      ]
    },
    {
      "cell_type": "code",
      "execution_count": 34,
      "metadata": {
        "id": "Ak_HNbyVMjWW"
      },
      "outputs": [],
      "source": [
        "def create_OpenKE_txt(triplets_csv, file_name):\n",
        "\n",
        "    line = triplets_csv.shape[0]\n",
        "    text = \"\"\n",
        "\n",
        "    text += (str(line) + \"\\n\")\n",
        "\n",
        "    for _, row in triplets_csv.iterrows():\n",
        "        text += (str(jdm2oke_node_mapping[row[\"n1\"]]) +\" \" +str(jdm2oke_node_mapping[row[\"n2\"]]) + \" \"+str(jdm2oke_relation_mapping[row[\"t\"]]) +\"\\n\")\n",
        "    text = text[:-1]\n",
        "\n",
        "    output_file = open(file_name,'w')\n",
        "    output_file.write(text)\n",
        "    output_file.close()"
      ]
    },
    {
      "cell_type": "code",
      "execution_count": 35,
      "metadata": {
        "id": "bArZVwexHro5"
      },
      "outputs": [],
      "source": [
        "create_OpenKE_txt(triplets_train,'./RezoJDM16K-OpenKE/train2id.txt')\n",
        "create_OpenKE_txt(triplets_dev,'./RezoJDM16K-OpenKE/valid2id.txt')\n",
        "create_OpenKE_txt(triplets_test,'./RezoJDM16K-OpenKE/test2id.txt')"
      ]
    },
    {
      "cell_type": "code",
      "execution_count": 36,
      "metadata": {
        "id": "xUoo8eUXWG1v"
      },
      "outputs": [],
      "source": [
        "def create_OpenKE_ent(nodes_name, file_name):\n",
        "    \n",
        "    line = nodes_name.shape[0]\n",
        "    text = \"\"\n",
        "\n",
        "    text += (str(line) + \"\\n\")\n",
        "\n",
        "    for _, row in nodes_name.iterrows():\n",
        "        text += (row[\"n\"] +\"\\t\" +str(row[\"new_eid\"])+\"\\n\")\n",
        "    text = text[:-1]\n",
        "\n",
        "    output_file = open(file_name,'w')\n",
        "    output_file.write(text)\n",
        "    output_file.close()\n",
        "\n",
        "\n",
        "def create_OpenKE_rel(nodes_name, file_name):\n",
        "    \n",
        "    line = nodes_name.shape[0]\n",
        "    text = \"\"\n",
        "\n",
        "    text += (str(line) + \"\\n\")\n",
        "\n",
        "    for _, row in nodes_name.iterrows():\n",
        "        text += (row[\"relation\"] +\"\\t\" +str(row[\"new_relation_id\"])+\"\\n\")\n",
        "    text = text[:-1]\n",
        "\n",
        "    output_file = open(file_name,'w')\n",
        "    output_file.write(text)\n",
        "    output_file.close()"
      ]
    },
    {
      "cell_type": "code",
      "execution_count": 37,
      "metadata": {
        "id": "r2u-isJal48W"
      },
      "outputs": [],
      "source": [
        "create_OpenKE_ent(nodes_name, \"./RezoJDM16K-OpenKE/entity2id.txt\")\n",
        "create_OpenKE_rel(relation_names, \"./RezoJDM16K-OpenKE/relation2id.txt\")"
      ]
    },
    {
      "cell_type": "code",
      "execution_count": 38,
      "metadata": {
        "colab": {
          "base_uri": "https://localhost:8080/",
          "height": 424
        },
        "id": "C_IIl3ITeKI7",
        "outputId": "27a11ecb-3700-4da6-ee1f-dda7f4ca4947"
      },
      "outputs": [
        {
          "data": {
            "text/html": [
              "\n",
              "  <div id=\"df-f32307b8-371f-4156-9837-a9f81b0b310d\">\n",
              "    <div class=\"colab-df-container\">\n",
              "      <div>\n",
              "<style scoped>\n",
              "    .dataframe tbody tr th:only-of-type {\n",
              "        vertical-align: middle;\n",
              "    }\n",
              "\n",
              "    .dataframe tbody tr th {\n",
              "        vertical-align: top;\n",
              "    }\n",
              "\n",
              "    .dataframe thead th {\n",
              "        text-align: right;\n",
              "    }\n",
              "</style>\n",
              "<table border=\"1\" class=\"dataframe\">\n",
              "  <thead>\n",
              "    <tr style=\"text-align: right;\">\n",
              "      <th></th>\n",
              "      <th>new_eid</th>\n",
              "      <th>eid</th>\n",
              "      <th>n</th>\n",
              "    </tr>\n",
              "  </thead>\n",
              "  <tbody>\n",
              "    <tr>\n",
              "      <th>0</th>\n",
              "      <td>0</td>\n",
              "      <td>1</td>\n",
              "      <td>vraiment</td>\n",
              "    </tr>\n",
              "    <tr>\n",
              "      <th>1</th>\n",
              "      <td>1</td>\n",
              "      <td>6</td>\n",
              "      <td>provenir</td>\n",
              "    </tr>\n",
              "    <tr>\n",
              "      <th>2</th>\n",
              "      <td>2</td>\n",
              "      <td>8</td>\n",
              "      <td>traversée</td>\n",
              "    </tr>\n",
              "    <tr>\n",
              "      <th>3</th>\n",
              "      <td>3</td>\n",
              "      <td>12</td>\n",
              "      <td>discréditer</td>\n",
              "    </tr>\n",
              "    <tr>\n",
              "      <th>4</th>\n",
              "      <td>4</td>\n",
              "      <td>16</td>\n",
              "      <td>Maria Callas</td>\n",
              "    </tr>\n",
              "    <tr>\n",
              "      <th>...</th>\n",
              "      <td>...</td>\n",
              "      <td>...</td>\n",
              "      <td>...</td>\n",
              "    </tr>\n",
              "    <tr>\n",
              "      <th>15741</th>\n",
              "      <td>15741</td>\n",
              "      <td>463699</td>\n",
              "      <td>chorioangiome</td>\n",
              "    </tr>\n",
              "    <tr>\n",
              "      <th>15742</th>\n",
              "      <td>15742</td>\n",
              "      <td>465567</td>\n",
              "      <td>Pierre Boulle</td>\n",
              "    </tr>\n",
              "    <tr>\n",
              "      <th>15743</th>\n",
              "      <td>15743</td>\n",
              "      <td>465579</td>\n",
              "      <td>Pierre Pelot</td>\n",
              "    </tr>\n",
              "    <tr>\n",
              "      <th>15744</th>\n",
              "      <td>15744</td>\n",
              "      <td>1449597</td>\n",
              "      <td>soldat&gt;146050</td>\n",
              "    </tr>\n",
              "    <tr>\n",
              "      <th>15745</th>\n",
              "      <td>15745</td>\n",
              "      <td>4466420</td>\n",
              "      <td>prendre un savon</td>\n",
              "    </tr>\n",
              "  </tbody>\n",
              "</table>\n",
              "<p>15746 rows × 3 columns</p>\n",
              "</div>\n",
              "      <button class=\"colab-df-convert\" onclick=\"convertToInteractive('df-f32307b8-371f-4156-9837-a9f81b0b310d')\"\n",
              "              title=\"Convert this dataframe to an interactive table.\"\n",
              "              style=\"display:none;\">\n",
              "        \n",
              "  <svg xmlns=\"http://www.w3.org/2000/svg\" height=\"24px\"viewBox=\"0 0 24 24\"\n",
              "       width=\"24px\">\n",
              "    <path d=\"M0 0h24v24H0V0z\" fill=\"none\"/>\n",
              "    <path d=\"M18.56 5.44l.94 2.06.94-2.06 2.06-.94-2.06-.94-.94-2.06-.94 2.06-2.06.94zm-11 1L8.5 8.5l.94-2.06 2.06-.94-2.06-.94L8.5 2.5l-.94 2.06-2.06.94zm10 10l.94 2.06.94-2.06 2.06-.94-2.06-.94-.94-2.06-.94 2.06-2.06.94z\"/><path d=\"M17.41 7.96l-1.37-1.37c-.4-.4-.92-.59-1.43-.59-.52 0-1.04.2-1.43.59L10.3 9.45l-7.72 7.72c-.78.78-.78 2.05 0 2.83L4 21.41c.39.39.9.59 1.41.59.51 0 1.02-.2 1.41-.59l7.78-7.78 2.81-2.81c.8-.78.8-2.07 0-2.86zM5.41 20L4 18.59l7.72-7.72 1.47 1.35L5.41 20z\"/>\n",
              "  </svg>\n",
              "      </button>\n",
              "      \n",
              "  <style>\n",
              "    .colab-df-container {\n",
              "      display:flex;\n",
              "      flex-wrap:wrap;\n",
              "      gap: 12px;\n",
              "    }\n",
              "\n",
              "    .colab-df-convert {\n",
              "      background-color: #E8F0FE;\n",
              "      border: none;\n",
              "      border-radius: 50%;\n",
              "      cursor: pointer;\n",
              "      display: none;\n",
              "      fill: #1967D2;\n",
              "      height: 32px;\n",
              "      padding: 0 0 0 0;\n",
              "      width: 32px;\n",
              "    }\n",
              "\n",
              "    .colab-df-convert:hover {\n",
              "      background-color: #E2EBFA;\n",
              "      box-shadow: 0px 1px 2px rgba(60, 64, 67, 0.3), 0px 1px 3px 1px rgba(60, 64, 67, 0.15);\n",
              "      fill: #174EA6;\n",
              "    }\n",
              "\n",
              "    [theme=dark] .colab-df-convert {\n",
              "      background-color: #3B4455;\n",
              "      fill: #D2E3FC;\n",
              "    }\n",
              "\n",
              "    [theme=dark] .colab-df-convert:hover {\n",
              "      background-color: #434B5C;\n",
              "      box-shadow: 0px 1px 3px 1px rgba(0, 0, 0, 0.15);\n",
              "      filter: drop-shadow(0px 1px 2px rgba(0, 0, 0, 0.3));\n",
              "      fill: #FFFFFF;\n",
              "    }\n",
              "  </style>\n",
              "\n",
              "      <script>\n",
              "        const buttonEl =\n",
              "          document.querySelector('#df-f32307b8-371f-4156-9837-a9f81b0b310d button.colab-df-convert');\n",
              "        buttonEl.style.display =\n",
              "          google.colab.kernel.accessAllowed ? 'block' : 'none';\n",
              "\n",
              "        async function convertToInteractive(key) {\n",
              "          const element = document.querySelector('#df-f32307b8-371f-4156-9837-a9f81b0b310d');\n",
              "          const dataTable =\n",
              "            await google.colab.kernel.invokeFunction('convertToInteractive',\n",
              "                                                     [key], {});\n",
              "          if (!dataTable) return;\n",
              "\n",
              "          const docLinkHtml = 'Like what you see? Visit the ' +\n",
              "            '<a target=\"_blank\" href=https://colab.research.google.com/notebooks/data_table.ipynb>data table notebook</a>'\n",
              "            + ' to learn more about interactive tables.';\n",
              "          element.innerHTML = '';\n",
              "          dataTable['output_type'] = 'display_data';\n",
              "          await google.colab.output.renderOutput(dataTable, element);\n",
              "          const docLink = document.createElement('div');\n",
              "          docLink.innerHTML = docLinkHtml;\n",
              "          element.appendChild(docLink);\n",
              "        }\n",
              "      </script>\n",
              "    </div>\n",
              "  </div>\n",
              "  "
            ],
            "text/plain": [
              "       new_eid      eid                 n\n",
              "0            0        1          vraiment\n",
              "1            1        6          provenir\n",
              "2            2        8         traversée\n",
              "3            3       12       discréditer\n",
              "4            4       16      Maria Callas\n",
              "...        ...      ...               ...\n",
              "15741    15741   463699     chorioangiome\n",
              "15742    15742   465567     Pierre Boulle\n",
              "15743    15743   465579      Pierre Pelot\n",
              "15744    15744  1449597     soldat>146050\n",
              "15745    15745  4466420  prendre un savon\n",
              "\n",
              "[15746 rows x 3 columns]"
            ]
          },
          "execution_count": 38,
          "metadata": {},
          "output_type": "execute_result"
        }
      ],
      "source": [
        "nodes_name"
      ]
    },
    {
      "cell_type": "code",
      "execution_count": 39,
      "metadata": {
        "colab": {
          "base_uri": "https://localhost:8080/"
        },
        "id": "MZ3do6KdY9MN",
        "outputId": "4b7b1331-da35-4667-ec0b-5396231de7a8"
      },
      "outputs": [
        {
          "name": "stdout",
          "output_type": "stream",
          "text": [
            "  adding: RezoJDM-SDS-OpenKE/ (stored 0%)\n",
            "  adding: RezoJDM-SDS-OpenKE/test2id.txt (deflated 59%)\n",
            "  adding: RezoJDM-SDS-OpenKE/relation2id.txt (deflated 49%)\n",
            "  adding: RezoJDM-SDS-OpenKE/train2id.txt (deflated 68%)\n",
            "  adding: RezoJDM-SDS-OpenKE/entity2id.txt (deflated 52%)\n",
            "  adding: RezoJDM-SDS-OpenKE/valid2id.txt (deflated 59%)\n"
          ]
        }
      ],
      "source": [
        "!zip -r 'RezoJDM16K-OpenKE.zip' 'RezoJDM16K-OpenKE'"
      ]
    }
  ],
  "metadata": {
    "colab": {
      "collapsed_sections": [],
      "machine_shape": "hm",
      "name": "Triplets2OpenKE.ipynb",
      "provenance": []
    },
    "kernelspec": {
      "display_name": "Python 3",
      "name": "python3"
    },
    "language_info": {
      "name": "python"
    }
  },
  "nbformat": 4,
  "nbformat_minor": 0
}
