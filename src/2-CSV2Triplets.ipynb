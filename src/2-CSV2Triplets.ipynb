{
  "cells": [
    {
      "cell_type": "code",
      "execution_count": 1,
      "metadata": {
        "id": "bChSK10bEoEm"
      },
      "outputs": [],
      "source": [
        "import os\n",
        "import numpy as np\n",
        "import pandas as pd \n",
        "import matplotlib.pyplot as plt\n",
        "import numpy as np\n",
        "\n",
        "import networkx as nx\n",
        "from google.colab import files"
      ]
    },
    {
      "cell_type": "code",
      "execution_count": 2,
      "metadata": {
        "colab": {
          "base_uri": "https://localhost:8080/"
        },
        "id": "sD5tZJQlEqtu",
        "outputId": "d2dce13a-03a0-4e49-ec47-9cbb2df1b0cf"
      },
      "outputs": [
        {
          "name": "stdout",
          "output_type": "stream",
          "text": [
            "Cloning into 'RezoJDM-SDS'...\n",
            "remote: Enumerating objects: 138, done.\u001b[K\n",
            "remote: Counting objects: 100% (138/138), done.\u001b[K\n",
            "remote: Compressing objects: 100% (88/88), done.\u001b[K\n",
            "remote: Total 138 (delta 61), reused 119 (delta 46), pack-reused 0\u001b[K\n",
            "Receiving objects: 100% (138/138), 29.73 MiB | 5.86 MiB/s, done.\n",
            "Resolving deltas: 100% (61/61), done.\n"
          ]
        }
      ],
      "source": [
        "! git clone https://github.com/ContentSide/French_Knowledge_Graph.git"
      ]
    },
    {
      "cell_type": "code",
      "execution_count": 4,
      "metadata": {
        "id": "ehnoIncwJkvx"
      },
      "outputs": [],
      "source": [
        "nodes = pd.read_csv(\"/content/French_Knowledge_Graph/datasets/Filtered_Nodes_Edges/nodes.csv\", index_col=False)\n",
        "relations = pd.read_csv(\"/content/French_Knowledge_Graph/datasets/Filtered_Nodes_Edges/relations.csv\", index_col=False)"
      ]
    },
    {
      "cell_type": "code",
      "execution_count": 5,
      "metadata": {
        "id": "-rR0h9jQx_23"
      },
      "outputs": [],
      "source": [
        "nodes_out_degree = {}\n",
        "nodes_in_degree = {}\n",
        "nodes_degree = {}\n",
        "\n",
        "for _, row in relations.iterrows():\n",
        "    \n",
        "    if row.n1 in nodes_out_degree:\n",
        "        nodes_out_degree[row.n1]+=1\n",
        "    else:\n",
        "        nodes_out_degree[row.n1]=1\n",
        "\n",
        "\n",
        "    if row.n2 in nodes_in_degree:\n",
        "        nodes_in_degree[row.n2]+=1\n",
        "    else:\n",
        "        nodes_in_degree[row.n2]=1\n",
        "\n",
        "\n",
        "    if row.n1 in nodes_degree:\n",
        "        nodes_degree[row.n1]+=1\n",
        "    else:\n",
        "        nodes_degree[row.n1]=1\n",
        "\n",
        "\n",
        "    if row.n2 in nodes_degree:\n",
        "        nodes_degree[row.n2]+=1\n",
        "    else:\n",
        "        nodes_degree[row.n2]=1\n"
      ]
    },
    {
      "cell_type": "code",
      "execution_count": 8,
      "metadata": {
        "colab": {
          "base_uri": "https://localhost:8080/"
        },
        "id": "bZiiQCVGyjkh",
        "outputId": "f8679fc6-d114-4ab3-8268-784a8eac85ab"
      },
      "outputs": [
        {
          "name": "stdout",
          "output_type": "stream",
          "text": [
            "116477\n"
          ]
        }
      ],
      "source": [
        "values=[]\n",
        "keys=[]\n",
        "\n",
        "for key, value in nodes_degree.items():\n",
        "    values.append(value)\n",
        "    keys.append(key)\n",
        "    if value == 15818:\n",
        "        print(key)"
      ]
    },
    {
      "cell_type": "code",
      "execution_count": 9,
      "metadata": {
        "colab": {
          "base_uri": "https://localhost:8080/"
        },
        "id": "rnEkgMQFKfhO",
        "outputId": "249ee935-30bf-479f-e64b-0f50d0ec63e7"
      },
      "outputs": [
        {
          "data": {
            "text/plain": [
              "113"
            ]
          },
          "execution_count": 9,
          "metadata": {},
          "output_type": "execute_result"
        }
      ],
      "source": [
        "len(relations[\"t\"].unique())"
      ]
    },
    {
      "cell_type": "code",
      "execution_count": 10,
      "metadata": {
        "colab": {
          "base_uri": "https://localhost:8080/"
        },
        "id": "m7zmTCveOsh4",
        "outputId": "f6adea56-c0ba-4331-d70c-7f85f47ddaf5"
      },
      "outputs": [
        {
          "data": {
            "text/plain": [
              "(1, 15818, 42.73066440725835)"
            ]
          },
          "execution_count": 10,
          "metadata": {},
          "output_type": "execute_result"
        }
      ],
      "source": [
        "min(values), max(values), np.mean(values)"
      ]
    },
    {
      "cell_type": "code",
      "execution_count": 12,
      "metadata": {
        "id": "-pF_tUaZzKyH"
      },
      "outputs": [],
      "source": [
        "#Entities connected to less than 45 other nodes (degree(node)<45) were removed.\n",
        "\n",
        "nodes_to_keep=[]\n",
        "for key, value in nodes_degree.items():\n",
        "    if value >= 45:\n",
        "        nodes_to_keep.append(key)\n",
        "\n",
        "relations_filter1 = relations[relations[\"n1\"].isin(nodes_to_keep) & relations[\"n2\"].isin(nodes_to_keep)].reset_index()"
      ]
    },
    {
      "cell_type": "code",
      "execution_count": 13,
      "metadata": {
        "colab": {
          "base_uri": "https://localhost:8080/"
        },
        "id": "yNOj-BL7zlIJ",
        "outputId": "b3f17090-eeee-481b-d6b5-9aac34d45ac8"
      },
      "outputs": [
        {
          "data": {
            "text/plain": [
              "15746"
            ]
          },
          "execution_count": 13,
          "metadata": {},
          "output_type": "execute_result"
        }
      ],
      "source": [
        "len(nodes_to_keep)"
      ]
    },
    {
      "cell_type": "code",
      "execution_count": 14,
      "metadata": {
        "colab": {
          "base_uri": "https://localhost:8080/"
        },
        "id": "Ad-MMVbAznR7",
        "outputId": "6947cc2e-3637-4c34-e90a-4d289f299dbe"
      },
      "outputs": [
        {
          "data": {
            "text/plain": [
              "(887654, 6)"
            ]
          },
          "execution_count": 14,
          "metadata": {},
          "output_type": "execute_result"
        }
      ],
      "source": [
        "relations_filter1.shape"
      ]
    },
    {
      "cell_type": "code",
      "execution_count": 15,
      "metadata": {
        "colab": {
          "base_uri": "https://localhost:8080/"
        },
        "id": "RHMhPNUz2rW1",
        "outputId": "875b14bc-f284-4b6e-e5e7-e632ac30ed5b"
      },
      "outputs": [
        {
          "data": {
            "text/plain": [
              "106"
            ]
          },
          "execution_count": 15,
          "metadata": {},
          "output_type": "execute_result"
        }
      ],
      "source": [
        "len(relations_filter1[\"t\"].unique())"
      ]
    },
    {
      "cell_type": "code",
      "execution_count": 16,
      "metadata": {
        "id": "nHs7NLT623j6"
      },
      "outputs": [],
      "source": [
        "#Relationships that appeared less than 100 times in the graph were also deleted.\n",
        "\n",
        "relation_freq={}\n",
        "\n",
        "for _, row in relations_filter1.iterrows():\n",
        "    \n",
        "    if row.t in relation_freq:\n",
        "        relation_freq[row.t]+=1\n",
        "    else:\n",
        "        relation_freq[row.t]=1"
      ]
    },
    {
      "cell_type": "code",
      "execution_count": 18,
      "metadata": {
        "id": "ytplSCopCewp"
      },
      "outputs": [],
      "source": [
        "relations_to_keep=[]\n",
        "for key, value in relation_freq.items():\n",
        "    if value >= 100:\n",
        "        relations_to_keep.append(key)\n",
        "\n",
        "relations_filter2 = relations_filter1[relations_filter1[\"t\"].isin(relations_to_keep)].reset_index()"
      ]
    },
    {
      "cell_type": "code",
      "execution_count": 20,
      "metadata": {
        "colab": {
          "base_uri": "https://localhost:8080/"
        },
        "id": "SiWHmsO-CW5t",
        "outputId": "61b12b5e-2734-4d2b-a931-00c79e678999"
      },
      "outputs": [
        {
          "data": {
            "text/plain": [
              "((887654, 6), (886393, 7), 106, 54)"
            ]
          },
          "execution_count": 20,
          "metadata": {},
          "output_type": "execute_result"
        }
      ],
      "source": [
        "relations_filter1.shape, relations_filter2.shape, len(relations_filter1[\"t\"].unique()), len(relations_filter2[\"t\"].unique())"
      ]
    },
    {
      "cell_type": "code",
      "execution_count": 33,
      "metadata": {
        "colab": {
          "base_uri": "https://localhost:8080/"
        },
        "id": "FLE3JI4UF346",
        "outputId": "1a18ba15-8893-493d-efae-9d4e402bca43"
      },
      "outputs": [
        {
          "name": "stdout",
          "output_type": "stream",
          "text": [
            "Handling reltype pair: (21, 20) (1/18)\n",
            "\n",
            "\n",
            "Handling reltype pair: (53, 54) (2/18)\n",
            "\n",
            "\n",
            "Handling reltype pair: (50, 51) (3/18)\n",
            "\n",
            "\n",
            "Handling reltype pair: (41, 42) (4/18)\n",
            "\n",
            "\n",
            "Handling reltype pair: (31, 30) (5/18)\n",
            "\n",
            "\n",
            "Handling reltype pair: (32, 115) (6/18)\n",
            "\n",
            "\n",
            "Handling reltype pair: (39, 40) (7/18)\n",
            "\n",
            "\n",
            "Handling reltype pair: (14, 26) (8/18)\n",
            "\n",
            "\n",
            "Handling reltype pair: (16, 25) (9/18)\n",
            "\n",
            "\n",
            "Handling reltype pair: (3, 27) (10/18)\n",
            "\n",
            "\n",
            "Handling reltype pair: (73, 74) (11/18)\n",
            "\n",
            "\n",
            "Handling reltype pair: (55, 56) (12/18)\n",
            "\n",
            "\n",
            "Handling reltype pair: (13, 24) (13/18)\n",
            "\n",
            "\n",
            "Handling reltype pair: (6, 8) (14/18)\n",
            "\n",
            "\n",
            "Handling reltype pair: (17, 23) (15/18)\n",
            "\n",
            "\n",
            "Handling reltype pair: (15, 28) (16/18)\n",
            "\n",
            "\n",
            "Handling reltype pair: (1, 2000) (17/18)\n",
            "\n",
            "\n",
            "Handling reltype pair: (9, 10) (18/18)\n",
            "\n",
            "\n"
          ]
        }
      ],
      "source": [
        "# pairs of symmetric relationship types\n",
        "symmetic_reltypes = [\n",
        "  (21,20),\n",
        "  (53,54),\n",
        "  (50,51),\n",
        "  (41,42),\n",
        "  (31,30),\n",
        "  (32,115),\n",
        "  (39,40),\n",
        "  (14,26),\n",
        "  (16,25),\n",
        "  (3,27),\n",
        "  (73,74),\n",
        "  (55,56),\n",
        "  (13,24),\n",
        "  (6,8),\n",
        "  (17,23),\n",
        "  (15,28),\n",
        "  (1,2000),\n",
        "  (9,10),\n",
        "]\n",
        "\n",
        "_relations_to_delete = set()\n",
        "\n",
        "error = False\n",
        "\n",
        "\n",
        "_relations_to_delete = set()\n",
        "\n",
        "error = False\n",
        "\n",
        "for n, reltype_pair in enumerate(symmetic_reltypes):\n",
        "  print(\"Handling reltype pair: {} ({}/{})\\n\\n\".format(reltype_pair, n+1, len(symmetic_reltypes)))\n",
        "  _edges = relations_filter2[relations_filter2[\"t\"].isin(reltype_pair)]\n",
        "  # print(\"_edges types:\")\n",
        "  # print((_edges[\"t\"].unique()))\n",
        "  # print(f\"type(_edges) = {type(_edges)}\\n_edges = {_edges}\\n\\n\")\n",
        "  for _, _edge in _edges.iterrows():\n",
        "    # print(f\"type(_edge) = {type(_edge)}\\n_edge = {_edge}\\n\")\n",
        "    # print(f\"type(_edge['rid']) = {type(_edge['rid'])}\\t_edge['rid'] = {_edge['rid']}\\n\")\n",
        "    if _edge[\"t\"] == reltype_pair[0]:\n",
        "      other_type = reltype_pair[1]\n",
        "    elif _edge[\"t\"] == reltype_pair[1]:\n",
        "      other_type = reltype_pair[0]\n",
        "    # print(f\"current edge type: {_edge['t']}\\tsymmetric edge expected type: {other_type}\")\n",
        "    symmetric_rel = _edges[(_edges[\"t\"] == other_type) & (_edges[\"n1\"] == _edge[\"n2\"]) & (_edges[\"n2\"] == _edge[\"n1\"])]\n",
        "    # print(f\"type(symmetric_rel) = {type(symmetric_rel)}\\nsymmetric_rel = {symmetric_rel}\\n\")\n",
        "    # print(f\"type(symmetric_rel['rid']) = {type(symmetric_rel['rid'])}\\tsymmetric_rel['rid'] = {symmetric_rel['rid']}\\n\")\n",
        "    # print(f\"type(symmetric_rel['rid'].values[0]) = {type(symmetric_rel['rid'].values[0])}\\tsymmetric_rel['rid'].values[0] = {symmetric_rel['rid'].values[0]}\\n\")\n",
        "    if symmetric_rel.shape[0] == 0:\n",
        "      continue\n",
        "    elif symmetric_rel.shape[0] > 1:\n",
        "      print(f\"Expected 0 or 1 result, got {symmetric_rel.shape[0]} instead\")\n",
        "      print(f\"  _edge =\\n{_edge}\\n\")\n",
        "      print(f\"  symmetric_rel =\\n{symmetric_rel}\")\n",
        "      print(\"-\" * 15)\n",
        "    test = (_edge[\"w\"] > symmetric_rel[\"w\"]).values[0]\n",
        "    _relations_to_delete.add(_edge[\"rid\"] if test else symmetric_rel[\"rid\"].values[0])  \n",
        "    # print(f\"len(_relations_to_delete) = {len(_relations_to_delete)}\")"
      ]
    },
    {
      "cell_type": "code",
      "execution_count": 34,
      "metadata": {
        "colab": {
          "base_uri": "https://localhost:8080/"
        },
        "id": "BYwWorRJF348",
        "outputId": "15f9dc99-a36a-47ad-ae4d-1c2c83a4b130"
      },
      "outputs": [
        {
          "name": "stdout",
          "output_type": "stream",
          "text": [
            "number of relations to delete:\n",
            " 54290\n"
          ]
        }
      ],
      "source": [
        "print(\"number of relations to delete:\\n\", len(_relations_to_delete))"
      ]
    },
    {
      "cell_type": "code",
      "execution_count": 35,
      "metadata": {
        "colab": {
          "base_uri": "https://localhost:8080/"
        },
        "id": "q_aVDKgIF348",
        "outputId": "787bd76c-dd25-44fb-9156-0905c37ef43f"
      },
      "outputs": [
        {
          "data": {
            "text/plain": [
              "((886393, 7), (832103, 7))"
            ]
          },
          "execution_count": 35,
          "metadata": {},
          "output_type": "execute_result"
        }
      ],
      "source": [
        "relations_filter3 = relations_filter2[~relations_filter2[\"rid\"].isin(_relations_to_delete)]\n",
        "relations_filter2.shape, relations_filter3.shape"
      ]
    },
    {
      "cell_type": "code",
      "execution_count": 36,
      "metadata": {
        "colab": {
          "base_uri": "https://localhost:8080/"
        },
        "id": "_i6_OAC8F349",
        "outputId": "64b1040f-d978-4700-fc99-00af25453378"
      },
      "outputs": [
        {
          "data": {
            "text/plain": [
              "54290"
            ]
          },
          "execution_count": 36,
          "metadata": {},
          "output_type": "execute_result"
        }
      ],
      "source": [
        "relations_filter2.shape[0] - relations_filter3.shape[0]"
      ]
    },
    {
      "cell_type": "code",
      "execution_count": 37,
      "metadata": {
        "colab": {
          "base_uri": "https://localhost:8080/"
        },
        "id": "wHjKpD5aF349",
        "outputId": "32769826-fb51-4dc8-8ce3-51119232c383"
      },
      "outputs": [
        {
          "name": "stdout",
          "output_type": "stream",
          "text": [
            "WARNING! Relationship type 1 has 10<100 examples\n"
          ]
        }
      ],
      "source": [
        "# Let's make sure every relationship type still has >=100 examples. If not, remove it.\n",
        "\n",
        "_relation_freq={}\n",
        "\n",
        "for _, _row in relations_filter3.iterrows():\n",
        "    \n",
        "    if _row.t in _relation_freq:\n",
        "        _relation_freq[_row.t]+=1\n",
        "    else:\n",
        "        _relation_freq[_row.t]=1\n",
        "\n",
        "for _reltype, _relfreq in _relation_freq.items():\n",
        "  if _relfreq < 100:\n",
        "    print(f\"WARNING! Relationship type {_reltype} has {_relfreq}<100 examples\")"
      ]
    },
    {
      "cell_type": "code",
      "execution_count": 38,
      "metadata": {
        "colab": {
          "base_uri": "https://localhost:8080/"
        },
        "id": "OZbV15OGF34-",
        "outputId": "4f0284d8-a5d0-464a-870d-d6d051932cf5"
      },
      "outputs": [
        {
          "data": {
            "text/plain": [
              "((832103, 7), (832093, 7))"
            ]
          },
          "execution_count": 38,
          "metadata": {},
          "output_type": "execute_result"
        }
      ],
      "source": [
        "relations_to_keep=[]\n",
        "for key, value in _relation_freq.items():\n",
        "    if value >= 100:\n",
        "        relations_to_keep.append(key)\n",
        "\n",
        "relations_filter4 = relations_filter3[relations_filter3[\"t\"].isin(relations_to_keep)]\n",
        "relations_filter3.shape, relations_filter4.shape"
      ]
    },
    {
      "cell_type": "code",
      "execution_count": 39,
      "metadata": {
        "colab": {
          "base_uri": "https://localhost:8080/"
        },
        "id": "U94iKHvQF34-",
        "outputId": "f1b2b61e-1306-4d3e-8e11-f2f2da4eca7e"
      },
      "outputs": [
        {
          "data": {
            "text/plain": [
              "10"
            ]
          },
          "execution_count": 39,
          "metadata": {},
          "output_type": "execute_result"
        }
      ],
      "source": [
        "relations_filter3.shape[0] - relations_filter4.shape[0]"
      ]
    },
    {
      "cell_type": "code",
      "execution_count": 41,
      "metadata": {
        "colab": {
          "base_uri": "https://localhost:8080/"
        },
        "id": "8SGK0MAFF34_",
        "outputId": "252972ed-99a1-468b-8ccb-a0750c52d96a"
      },
      "outputs": [
        {
          "data": {
            "text/plain": [
              "((886393, 7), (832093, 7), 54, 53)"
            ]
          },
          "execution_count": 41,
          "metadata": {},
          "output_type": "execute_result"
        }
      ],
      "source": [
        "relations_filter2.shape, relations_filter4.shape, len(relations_filter2[\"t\"].unique()), len(relations_filter4[\"t\"].unique())"
      ]
    },
    {
      "cell_type": "code",
      "execution_count": 42,
      "metadata": {
        "id": "nTLD0LW-XlYv"
      },
      "outputs": [],
      "source": [
        "#code to find components of the graph. The largest subgraph will be selected.\n",
        "\n",
        "def get_sub_disconnected_graphs(relations):\n",
        "    G = nx.from_pandas_edgelist(relations, source='n1', target='n2', edge_attr='t')\n",
        "    largest_component = max(nx.connected_components(G), key=len)\n",
        "    G2 = G.subgraph(largest_component)\n",
        "    return len(list(nx.connected_components(G)))"
      ]
    },
    {
      "cell_type": "code",
      "execution_count": 44,
      "metadata": {
        "colab": {
          "base_uri": "https://localhost:8080/"
        },
        "id": "2NgOPsoTZNBL",
        "outputId": "ab62a0ea-a1ad-493c-884f-7ba5a3c595a8"
      },
      "outputs": [
        {
          "data": {
            "text/plain": [
              "(485, 1, 1)"
            ]
          },
          "execution_count": 44,
          "metadata": {},
          "output_type": "execute_result"
        }
      ],
      "source": [
        "get_sub_disconnected_graphs(relations), get_sub_disconnected_graphs(relations_filter2), get_sub_disconnected_graphs(relations_filter4)"
      ]
    },
    {
      "cell_type": "code",
      "execution_count": 50,
      "metadata": {
        "colab": {
          "base_uri": "https://localhost:8080/"
        },
        "id": "zyqeEl1GZvVT",
        "outputId": "c61cf8a7-49bb-4fda-e25c-41e32ff73293"
      },
      "outputs": [
        {
          "data": {
            "text/plain": [
              "((832093, 4), 53)"
            ]
          },
          "execution_count": 50,
          "metadata": {},
          "output_type": "execute_result"
        }
      ],
      "source": [
        "relations = relations_filter4[[\"n1\",\"n2\",\"t\",\"w\"]]\n",
        "relations.shape , len(relations[\"t\"].unique())"
      ]
    },
    {
      "cell_type": "code",
      "execution_count": null,
      "metadata": {
        "id": "AsCigXMN-Hhh"
      },
      "outputs": [],
      "source": [
        "# relations_info = {}\n",
        "\n",
        "# for _, row in relations.iterrows():\n",
        "#     start = min(row.n1,row.n2)\n",
        "#     end = max(row.n1,row.n2)\n",
        "\n",
        "#     link = str(start) + \"-\" + str(end)\n",
        "\n",
        "#     if link in relations_info:\n",
        "#         relations_info[link].append(row)\n",
        "#     else:\n",
        "#         relations_info[link] = [row]"
      ]
    },
    {
      "cell_type": "code",
      "execution_count": 46,
      "metadata": {
        "id": "0wAB2CuXXMvI"
      },
      "outputs": [],
      "source": [
        "def get_subset_triplet(relations, N):\n",
        "\n",
        "    relations_ = relations.copy()\n",
        "    count = 0\n",
        "\n",
        "\n",
        "    while count < N:\n",
        "\n",
        "        rand_index = np.random.randint(relations_.shape[0], size=1)[0]\n",
        "        relations_dropped = relations_.drop(rand_index)\n",
        "\n",
        "        condition1 = relations_.loc[rand_index][\"n1\"] in relations_dropped[\"n1\"]\n",
        "        condition2 = relations_.loc[rand_index][\"n2\"] in relations_dropped[\"n2\"]    \n",
        "\n",
        "        if condition1 & condition2:\n",
        "\n",
        "            if count == 0:\n",
        "                relations_new = relations_.loc[rand_index].to_frame().T\n",
        "            else:\n",
        "                relations_new = relations_new.append(relations_.loc[rand_index], ignore_index=True)\n",
        "\n",
        "            relations_ = relations_dropped.reset_index()[[\"n1\",\"n2\",\"t\",\"w\"]]\n",
        "            count+=1\n",
        "\n",
        "            if count % 1000 == 0:\n",
        "                print(count)\n",
        "\n",
        "    return relations_new, relations_"
      ]
    },
    {
      "cell_type": "code",
      "execution_count": null,
      "metadata": {
        "colab": {
          "base_uri": "https://localhost:8080/"
        },
        "id": "VmDYUu_3dUUf",
        "outputId": "1af91c47-1725-421a-9efb-017c03f4c6c9"
      },
      "outputs": [
        {
          "data": {
            "text/plain": [
              "(0.8802588996763754, 0.05501618122977346, 0.06472491909385113)"
            ]
          },
          "execution_count": 376,
          "metadata": {},
          "output_type": "execute_result"
        }
      ],
      "source": [
        "total = 272 + 17 + 20\n",
        "272/total, 17/total, 20/total"
      ]
    },
    {
      "cell_type": "code",
      "execution_count": 51,
      "metadata": {
        "colab": {
          "base_uri": "https://localhost:8080/"
        },
        "id": "Mm3Y77EmlIiD",
        "outputId": "80591aa7-78c5-4157-ab2a-6b26bb5c84a5"
      },
      "outputs": [
        {
          "data": {
            "text/plain": [
              "(83209.3, 83209.3, 665674.4)"
            ]
          },
          "execution_count": 51,
          "metadata": {},
          "output_type": "execute_result"
        }
      ],
      "source": [
        "N = 832093\n",
        "N*0.1 , N*0.1 , N*0.8"
      ]
    },
    {
      "cell_type": "code",
      "execution_count": 52,
      "metadata": {
        "colab": {
          "base_uri": "https://localhost:8080/",
          "height": 1000
        },
        "id": "_Vwy-xuTlRES",
        "outputId": "33cbd4dc-316b-446f-a51b-34829f038308"
      },
      "outputs": [
        {
          "name": "stdout",
          "output_type": "stream",
          "text": [
            "1000\n",
            "2000\n",
            "3000\n",
            "4000\n",
            "5000\n",
            "6000\n",
            "7000\n",
            "8000\n",
            "9000\n",
            "10000\n",
            "11000\n",
            "12000\n",
            "13000\n",
            "14000\n",
            "15000\n",
            "16000\n",
            "17000\n",
            "18000\n",
            "19000\n",
            "20000\n",
            "21000\n",
            "22000\n",
            "23000\n",
            "24000\n",
            "25000\n",
            "26000\n",
            "27000\n",
            "28000\n",
            "29000\n",
            "30000\n",
            "31000\n",
            "32000\n",
            "33000\n",
            "34000\n",
            "35000\n",
            "36000\n",
            "37000\n",
            "38000\n",
            "39000\n",
            "40000\n",
            "41000\n",
            "42000\n",
            "43000\n",
            "44000\n",
            "45000\n",
            "46000\n",
            "47000\n",
            "48000\n",
            "49000\n",
            "50000\n",
            "51000\n",
            "52000\n",
            "53000\n",
            "54000\n",
            "55000\n",
            "56000\n",
            "57000\n",
            "58000\n",
            "59000\n",
            "60000\n",
            "61000\n",
            "62000\n",
            "63000\n",
            "64000\n",
            "65000\n",
            "66000\n",
            "67000\n",
            "68000\n",
            "69000\n",
            "70000\n",
            "71000\n",
            "72000\n",
            "73000\n",
            "74000\n",
            "75000\n",
            "76000\n",
            "77000\n",
            "78000\n",
            "79000\n",
            "80000\n",
            "81000\n",
            "82000\n",
            "83000\n"
          ]
        },
        {
          "data": {
            "application/javascript": "\n    async function download(id, filename, size) {\n      if (!google.colab.kernel.accessAllowed) {\n        return;\n      }\n      const div = document.createElement('div');\n      const label = document.createElement('label');\n      label.textContent = `Downloading \"${filename}\": `;\n      div.appendChild(label);\n      const progress = document.createElement('progress');\n      progress.max = size;\n      div.appendChild(progress);\n      document.body.appendChild(div);\n\n      const buffers = [];\n      let downloaded = 0;\n\n      const channel = await google.colab.kernel.comms.open(id);\n      // Send a message to notify the kernel that we're ready.\n      channel.send({})\n\n      for await (const message of channel.messages) {\n        // Send a message to notify the kernel that we're ready.\n        channel.send({})\n        if (message.buffers) {\n          for (const buffer of message.buffers) {\n            buffers.push(buffer);\n            downloaded += buffer.byteLength;\n            progress.value = downloaded;\n          }\n        }\n      }\n      const blob = new Blob(buffers, {type: 'application/binary'});\n      const a = document.createElement('a');\n      a.href = window.URL.createObjectURL(blob);\n      a.download = filename;\n      div.appendChild(a);\n      a.click();\n      div.remove();\n    }\n  ",
            "text/plain": [
              "<IPython.core.display.Javascript object>"
            ]
          },
          "metadata": {},
          "output_type": "display_data"
        },
        {
          "data": {
            "application/javascript": "download(\"download_f50773e1-5d3b-46d0-8eda-608d4dd89830\", \"triplets_dev.csv\", 1520738)",
            "text/plain": [
              "<IPython.core.display.Javascript object>"
            ]
          },
          "metadata": {},
          "output_type": "display_data"
        },
        {
          "data": {
            "application/javascript": "\n    async function download(id, filename, size) {\n      if (!google.colab.kernel.accessAllowed) {\n        return;\n      }\n      const div = document.createElement('div');\n      const label = document.createElement('label');\n      label.textContent = `Downloading \"${filename}\": `;\n      div.appendChild(label);\n      const progress = document.createElement('progress');\n      progress.max = size;\n      div.appendChild(progress);\n      document.body.appendChild(div);\n\n      const buffers = [];\n      let downloaded = 0;\n\n      const channel = await google.colab.kernel.comms.open(id);\n      // Send a message to notify the kernel that we're ready.\n      channel.send({})\n\n      for await (const message of channel.messages) {\n        // Send a message to notify the kernel that we're ready.\n        channel.send({})\n        if (message.buffers) {\n          for (const buffer of message.buffers) {\n            buffers.push(buffer);\n            downloaded += buffer.byteLength;\n            progress.value = downloaded;\n          }\n        }\n      }\n      const blob = new Blob(buffers, {type: 'application/binary'});\n      const a = document.createElement('a');\n      a.href = window.URL.createObjectURL(blob);\n      a.download = filename;\n      div.appendChild(a);\n      a.click();\n      div.remove();\n    }\n  ",
            "text/plain": [
              "<IPython.core.display.Javascript object>"
            ]
          },
          "metadata": {},
          "output_type": "display_data"
        },
        {
          "data": {
            "application/javascript": "download(\"download_e6be5114-3245-40f5-9280-4a8a704b5346\", \"triplets_rest.csv\", 13691109)",
            "text/plain": [
              "<IPython.core.display.Javascript object>"
            ]
          },
          "metadata": {},
          "output_type": "display_data"
        }
      ],
      "source": [
        "triplets_dev, triplets_rest = get_subset_triplet(relations, 83209)\n",
        "triplets_dev.to_csv(\"triplets_dev.csv\", index=False)\n",
        "triplets_rest.to_csv(\"triplets_rest.csv\", index=False)\n",
        "files.download(\"triplets_dev.csv\")\n",
        "files.download(\"triplets_rest.csv\")"
      ]
    },
    {
      "cell_type": "code",
      "execution_count": null,
      "metadata": {
        "colab": {
          "base_uri": "https://localhost:8080/"
        },
        "id": "ksi5mZTt-yUN",
        "outputId": "a9833d7b-6997-43b1-a8be-ecaab4a44c5b"
      },
      "outputs": [
        {
          "name": "stdout",
          "output_type": "stream",
          "text": [
            "1000\n",
            "2000\n",
            "3000\n",
            "4000\n",
            "5000\n",
            "6000\n",
            "7000\n",
            "8000\n",
            "9000\n",
            "10000\n",
            "11000\n",
            "12000\n",
            "13000\n",
            "14000\n",
            "15000\n",
            "16000\n",
            "17000\n",
            "18000\n",
            "19000\n",
            "20000\n",
            "21000\n",
            "22000\n",
            "23000\n",
            "24000\n",
            "25000\n",
            "26000\n",
            "27000\n",
            "28000\n",
            "29000\n",
            "30000\n"
          ]
        }
      ],
      "source": [
        "triplets_test, triplets_train = get_subset_triplet(triplets_rest, 83209)\n",
        "triplets_train.to_csv(\"triplets_train.csv\", index=False)\n",
        "triplets_test.to_csv(\"triplets_test.csv\", index=False)\n",
        "files.download(\"triplets_train.csv\")\n",
        "files.download(\"triplets_test.csv\")"
      ]
    }
  ],
  "metadata": {
    "colab": {
      "collapsed_sections": [],
      "machine_shape": "hm",
      "name": "CSV2Triplets.ipynb",
      "provenance": []
    },
    "kernelspec": {
      "display_name": "Python 3 (ipykernel)",
      "language": "python",
      "name": "python3"
    },
    "language_info": {
      "codemirror_mode": {
        "name": "ipython",
        "version": 3
      },
      "file_extension": ".py",
      "mimetype": "text/x-python",
      "name": "python",
      "nbconvert_exporter": "python",
      "pygments_lexer": "ipython3",
      "version": "3.8.10"
    }
  },
  "nbformat": 4,
  "nbformat_minor": 0
}
